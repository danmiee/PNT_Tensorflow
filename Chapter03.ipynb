{
  "nbformat": 4,
  "nbformat_minor": 0,
  "metadata": {
    "colab": {
      "provenance": []
    },
    "kernelspec": {
      "name": "python3",
      "display_name": "Python 3"
    },
    "language_info": {
      "name": "python"
    }
  },
  "cells": [
    {
      "cell_type": "code",
      "execution_count": null,
      "metadata": {
        "id": "bSAndyP2dT4a"
      },
      "outputs": [],
      "source": [
        "#0501 파이썬\n",
        "\n",
        "import numpy as np\n",
        "\n",
        "def MSE(y, t):\n",
        "    return np.sum((y-t)**2)/t.size\n",
        "\n",
        "t = np.array([1,    2, 3,   4])    \n",
        "y1 = np.array([0.5, 1, 1.5, 2])\n",
        "\n",
        "print(\"MSE(t, y1)=\", MSE(t, y1))\n",
        "\n",
        "y2 = np.array([0.5, 1.5, 2.5, 3.5])\n",
        "print(\"MSE(t, y2)=\", MSE(t, y2))\n"
      ]
    },
    {
      "cell_type": "code",
      "source": [
        "#0502 텐서플로\n",
        "\n",
        "import numpy as np\n",
        "import tensorflow as tf\n",
        "\n",
        "def MSE(y, t):\n",
        "    return tf.reduce_mean(tf.square(y - t))   # (y - t)**2\n",
        "\n",
        "t = np.array([1,   2, 3,   4])    \n",
        "y1 = np.array([0.5, 1, 1.5, 2])\n",
        "#t = tf.convert_to_tensor(t, dtype=tf.float32)\n",
        "#y1 = tf.convert_to_tensor(y1, dtype=tf.float32)\n",
        "\n",
        "print(\"MSE(t, y1)=\", MSE(t, y1).numpy())\n",
        "\n",
        "y2 = np.array([0.5, 1.5, 2.5, 3.5])\n",
        "print(\"MSE(t, y2)=\", MSE(t, y2).numpy())\n"
      ],
      "metadata": {
        "id": "_P_fToecdapK"
      },
      "execution_count": null,
      "outputs": []
    },
    {
      "cell_type": "code",
      "source": [
        "#0503 케라스\n",
        "\n",
        "import numpy as np\n",
        "import tensorflow as tf\n",
        "\n",
        "t = np.array([1,   2, 3,   4])    \n",
        "y1 = np.array([0.5, 1, 1.5, 2])\n",
        "#t = tf.convert_to_tensor(t, dtype=tf.float32)\n",
        "#y1 = tf.convert_to_tensor(y1, dtype=tf.float32)\n",
        "\n",
        "MSE = tf.keras.losses.MeanSquaredError()\n",
        "\n",
        "print(\"MSE(t, y1)=\", MSE(t, y1).numpy())\n",
        "\n",
        "y2 = np.array([0.5, 1.5, 2.5, 3.5])\n",
        "print(\"MSE(t, y2)=\", MSE(t, y2).numpy())\n"
      ],
      "metadata": {
        "id": "5AG29RhGeawy"
      },
      "execution_count": null,
      "outputs": []
    },
    {
      "cell_type": "code",
      "source": [
        "#0601\n",
        "import numpy as np\n",
        "   \n",
        "def MSE(y, t):\n",
        "    return np.sum((y-t)**2)/t.size\n",
        "    \n",
        "x = np.arange(12) # [ 0,  1,  2,  3,  4,  5,  6,  7,  8,  9, 10, 11]\n",
        "t = np.arange(12)\n",
        "\n",
        "w = 0.5     # 초기값\n",
        "b = 0\n",
        "lr = 0.001  # 0.01, learning rate\n",
        "\n",
        "loss_list = [ ]\n",
        "for epoch in range(200):\n",
        "    y = w*x + b                      # calculate the output   \n",
        "    dW = np.sum((y-t)*x)/(2*x.size)  # gradients\n",
        "    dB = np.sum((y-t))/(2*x.size)\n",
        "    \n",
        "    w = w - lr*dW     # update parameters\n",
        "    b = b - lr*dB\n",
        "\n",
        "    y = w*x + b       # calculate the output\n",
        "    loss = MSE(y, t)  # 오차 계산\n",
        "    loss_list.append(loss)\n",
        "##    if not epoch%10:\n",
        "##        print(\"epoch={}: w={:>8.4f}. b={:>8.4f}, loss={}\".format(epoch, w, b, loss))\n",
        "\n",
        "print(\"w={:>.4f}. b={:>.4f}, loss={:>.4f}\".format(w, b, loss))\n",
        "\n",
        "import matplotlib.pyplot as plt\n",
        "plt.plot(loss_list)\n",
        "plt.show() \n"
      ],
      "metadata": {
        "colab": {
          "base_uri": "https://localhost:8080/",
          "height": 282
        },
        "id": "OWfvMS-5ecNw",
        "outputId": "325dcf31-6a7a-45da-b83e-f90ff8e6755c"
      },
      "execution_count": null,
      "outputs": [
        {
          "output_type": "stream",
          "name": "stdout",
          "text": [
            "w=0.9853. b=0.0619, loss=0.0029\n"
          ]
        },
        {
          "output_type": "display_data",
          "data": {
            "text/plain": [
              "<Figure size 432x288 with 1 Axes>"
            ],
            "image/png": "[encoded data removed]"
          },
          "metadata": {
            "needs_background": "light"
          }
        }
      ]
    },
    {
      "cell_type": "code",
      "source": [
        "#0602\n",
        "\n",
        "import numpy as np\n",
        "import matplotlib.pyplot as plt\n",
        "\n",
        "def MSE(y, t):\n",
        "    return np.sum((y-t)**2)/t.size\n",
        "\n",
        "x = np.arange(12) # [ 0,  1,  2,  3,  4,  5,  6,  7,  8,  9, 10, 11]\n",
        "t = np.arange(12)\n",
        "\n",
        "w = 0.5\n",
        "b = 0\n",
        "lr = 0.001  # 0.01, learning rate\n",
        "loss_list = [ ]\n",
        "\n",
        "# mini-batch\n",
        "train_size = t.size # 12\n",
        "batch_size = 4\n",
        "K = train_size// batch_size # 3\n",
        "\n",
        "for epoch in range(100):\n",
        "    loss = 0\n",
        "    for step in range(K):\n",
        "      # stochastic\n",
        "        mask = np.random.choice(train_size, batch_size)\n",
        "        x_batch = x[mask]\n",
        "        t_batch = t[mask]\n",
        "        \n",
        "        y = w*x_batch + b                               # calculate the output\n",
        "        dW = np.sum((y-t_batch)*x_batch)/(2*batch_size) # gradients\n",
        "        dB = np.sum((y-t_batch))/(2*batch_size)\n",
        "        \n",
        "        w = w - lr*dW   # update parameters\n",
        "        b = b - lr*dB\n",
        "        \n",
        "        y = w*x_batch + b       # calculate the output\n",
        "        loss += MSE(y, t_batch) # calculate MSE\n",
        "    loss /= K  # average loss\n",
        "    loss_list.append(loss)\n",
        "    if not epoch%10:\n",
        "        print(\"epoch={}: w={:>8.4f}. b={:>8.4f}, loss={}\".format(epoch, w, b, loss))\n",
        "\n",
        "print(\"w={:>8.4f}. b={:>8.4f}, loss={}\".format(w, b, loss))\n",
        "\n",
        "plt.plot(loss_list)\n",
        "plt.show() \n"
      ],
      "metadata": {
        "colab": {
          "base_uri": "https://localhost:8080/",
          "height": 456
        },
        "id": "0iaaJrhWfRCi",
        "outputId": "601b2450-b5e0-456a-e822-6ebe8dedde69"
      },
      "execution_count": null,
      "outputs": [
        {
          "output_type": "stream",
          "name": "stdout",
          "text": [
            "epoch=0: w=  0.5255. b=  0.0031, loss=8.021170374470577\n",
            "epoch=10: w=  0.7404. b=  0.0312, loss=1.867928173998812\n",
            "epoch=20: w=  0.8600. b=  0.0468, loss=0.677463624541138\n",
            "epoch=30: w=  0.9262. b=  0.0548, loss=0.21198348921546303\n",
            "epoch=40: w=  0.9567. b=  0.0586, loss=0.06770450312355494\n",
            "epoch=50: w=  0.9728. b=  0.0605, loss=0.017652195617169967\n",
            "epoch=60: w=  0.9822. b=  0.0614, loss=0.005831993685806697\n",
            "epoch=70: w=  0.9869. b=  0.0618, loss=0.0029759478071405346\n",
            "epoch=80: w=  0.9894. b=  0.0618, loss=0.0015521369571562934\n",
            "epoch=90: w=  0.9905. b=  0.0617, loss=0.0009466274158126728\n",
            "w=  0.9912. b=  0.0615, loss=0.0007420401668514867\n"
          ]
        },
        {
          "output_type": "display_data",
          "data": {
            "text/plain": [
              "<Figure size 432x288 with 1 Axes>"
            ],
            "image/png": "[encoded data removed]"
          },
          "metadata": {
            "needs_background": "light"
          }
        }
      ]
    },
    {
      "cell_type": "code",
      "source": [
        "#0701\n",
        "import tensorflow as tf\n",
        "\n",
        "x = tf.Variable(2.0) # tf.Variable(2.0, trainable=True)\n",
        "y = tf.Variable(3.0) # tf.Variable(3.0, trainable=True)\n",
        "\n",
        "with tf.GradientTape() as tape:\n",
        "    z = x**2 + y**2\n",
        "dx, dy = tape.gradient(z, [x, y])\n",
        "\n",
        "print('dx=', dx.numpy())\n",
        "print('dy=', dy.numpy())\n"
      ],
      "metadata": {
        "colab": {
          "base_uri": "https://localhost:8080/"
        },
        "id": "7r7dbRZIfTTv",
        "outputId": "af62c918-8f83-408d-ce4b-8a147bf5835f"
      },
      "execution_count": null,
      "outputs": [
        {
          "output_type": "stream",
          "name": "stdout",
          "text": [
            "dx= 4.0\n",
            "dy= 6.0\n"
          ]
        }
      ]
    },
    {
      "cell_type": "code",
      "source": [
        "#0702\n",
        "import tensorflow as tf\n",
        "\n",
        "x = tf.constant(2.0)\n",
        "y = tf.constant(3.0)\n",
        "\n",
        "with tf.GradientTape(persistent=True) as tape:\n",
        "    tape.watch(x)\n",
        "    tape.watch(y)\n",
        "    z = x**2 + y**2\n",
        "dx = tape.gradient(z, x)\n",
        "dy = tape.gradient(z, y)\n",
        "\n",
        "print('dx=', dx.numpy())\n",
        "print('dy=', dy.numpy())\n"
      ],
      "metadata": {
        "colab": {
          "base_uri": "https://localhost:8080/"
        },
        "id": "6fWshYZdfUad",
        "outputId": "1846f1e1-77e9-4d4c-c47a-2f7acb95ff82"
      },
      "execution_count": null,
      "outputs": [
        {
          "output_type": "stream",
          "name": "stdout",
          "text": [
            "dx= 4.0\n",
            "dy= 6.0\n"
          ]
        }
      ]
    },
    {
      "cell_type": "code",
      "source": [
        "#0703\n",
        "import tensorflow as tf\n",
        "\n",
        "x = tf.Variable(2.0) # tf.Variable(2.0, trainable=True)\n",
        "y = tf.Variable(3.0) # tf.Variable(3.0, trainable=True)\n",
        "\n",
        "with tf.GradientTape(watch_accessed_variables=False) as tape:\n",
        "    tape.watch(x)\n",
        "    tape.watch(y)\n",
        "    z = x**2 + y**2\n",
        "dx, dy = tape.gradient(z, [x, y])\n",
        "\n",
        "print('dx=', dx.numpy())\n",
        "print('dy=', dy.numpy())\n"
      ],
      "metadata": {
        "colab": {
          "base_uri": "https://localhost:8080/"
        },
        "id": "a6aKzskffXBO",
        "outputId": "f952ef3b-0439-4df0-b8a6-e2f3da405c71"
      },
      "execution_count": null,
      "outputs": [
        {
          "output_type": "stream",
          "name": "stdout",
          "text": [
            "dx= 4.0\n",
            "dy= 6.0\n"
          ]
        }
      ]
    },
    {
      "cell_type": "code",
      "source": [
        "#0704\n",
        "import tensorflow as tf\n",
        "\n",
        "x = tf.Variable(3.0)\n",
        "\n",
        "with tf.GradientTape() as tape2:\n",
        "    with tf.GradientTape() as tape1:\n",
        "        y = x**3\n",
        "    dy = tape1.gradient(y, x)\n",
        "dy2 = tape2.gradient(dy, x)\n",
        "print('dy=', dy.numpy())\n",
        "print('dy2=', dy2.numpy())\n"
      ],
      "metadata": {
        "colab": {
          "base_uri": "https://localhost:8080/"
        },
        "id": "OEdna3hJfYtt",
        "outputId": "5eb74e4c-a708-441e-d820-bcac02c51285"
      },
      "execution_count": null,
      "outputs": [
        {
          "output_type": "stream",
          "name": "stdout",
          "text": [
            "dy= 27.0\n",
            "dy2= 18.0\n"
          ]
        }
      ]
    },
    {
      "cell_type": "code",
      "source": [
        "#0801 GradientTape를 활용한 경사하강법 구현(Batch Gradient Descent)\n",
        "import numpy as np\n",
        "import tensorflow as tf\n",
        "import matplotlib.pyplot as plt\n",
        "\n",
        "x = np.arange(12)\n",
        "t = np.arange(12)\n",
        "#x = tf.convert_to_tensor(x, dtype=tf.float32)\n",
        "#t = tf.convert_to_tensor(t, dtype=tf.float32)\n",
        "\n",
        "w = tf.Variable(0.5)  # 난수값\n",
        "b = tf.Variable(0.0)  # 난수값\n",
        "lr = 0.001   # learning rate\n",
        "\n",
        "loss_list = [ ]  # for graph \n",
        "for epoch in range(100):   \n",
        "    with tf.GradientTape() as tape:\n",
        "        y = x*w + b\n",
        "        # 전체 t에 대한 오차계산 > Batch Gradient Descent임을 알 수 있음\n",
        "        loss = tf.reduce_mean(tf.square(y - t))\n",
        "    loss_list.append(loss.numpy())\n",
        "    # 오차, w, b를 바탕으로 미분계산\n",
        "    dW, dB = tape.gradient(loss, [w, b])\n",
        "    # 가중치 update\n",
        "    w.assign_sub(lr * dW)\n",
        "    b.assign_sub(lr * dB)\n",
        "##    if not epoch%10:\n",
        "##        print(\"epoch={}: w={:>.4f}. b={:>.4f}, loss={}\".format(\n",
        "##               epoch, w.numpy(), b.numpy(), loss.numpy()))\n",
        "\n",
        "print(\"w={:>.4f}. b={:>.4f}, loss={}\".format(w.numpy(), b.numpy(), loss.numpy()))\n",
        "\n",
        "plt.plot(loss_list)\n",
        "plt.show()\n"
      ],
      "metadata": {
        "colab": {
          "base_uri": "https://localhost:8080/",
          "height": 282
        },
        "id": "jwHoa_ajfZhN",
        "outputId": "7e902170-e663-4ddd-d95a-b24e58782a06"
      },
      "execution_count": null,
      "outputs": [
        {
          "output_type": "stream",
          "name": "stdout",
          "text": [
            "w=0.9919. b=0.0610, loss=0.001054731197655201\n"
          ]
        },
        {
          "output_type": "display_data",
          "data": {
            "text/plain": [
              "<Figure size 432x288 with 1 Axes>"
            ],
            "image/png": "[encoded data removed]"
          },
          "metadata": {
            "needs_background": "light"
          }
        }
      ]
    },
    {
      "cell_type": "code",
      "source": [
        "#0802 Mini-Batch Stochastic Gradient Descent\n",
        "import numpy as np\n",
        "import tensorflow as tf\n",
        "import matplotlib.pyplot as plt\n",
        "\n",
        "x = np.arange(12)\n",
        "t = np.arange(12)\n",
        "\n",
        "w = tf.Variable(0.5)\n",
        "b = tf.Variable(0.0)\n",
        "lr= 0.001   # learning rate, 0.0001\n",
        "\n",
        "train_size = x.size # 12\n",
        "batch_size = 4\n",
        "K = train_size// batch_size\n",
        "\n",
        "loss_list = [ ]\n",
        "for epoch in range(100):\n",
        "    batch_loss = 0.0\n",
        "    for step in range(K):\n",
        "        # 확률적으로 뽑기\n",
        "        mask = np.random.choice(train_size, batch_size)\n",
        "        x_batch = x[mask]\n",
        "        t_batch = t[mask]\n",
        "        \n",
        "        with tf.GradientTape() as tape:\n",
        "            y = w*x_batch + b\n",
        "            # 전체가 아닌 t_batch에 대한 오차 계산 > Stochastic\n",
        "            loss = tf.reduce_mean(tf.square(y - t_batch))\n",
        "\n",
        "        dW, dB = tape.gradient(loss, [w, b])\n",
        "        w.assign_sub(lr * dW)\n",
        "        b.assign_sub(lr * dB)\n",
        "\n",
        "        batch_loss += loss.numpy() # pre-update loss\n",
        "    batch_loss /= K #  average loss\n",
        "    loss_list.append(batch_loss) \n",
        "\n",
        "##    if not epoch%10:\n",
        "##        print(\"epoch={}: w={:>.4f}. b={:>.4f}, batch_loss={}\".format(\n",
        "##               epoch, w.numpy(), b.numpy(), batch_loss))\n",
        "\n",
        "print(\"w={:>.4f}. b={:>.4f}, batch_loss={}\".format(w.numpy(), b.numpy(), batch_loss))\n",
        "\n",
        "plt.plot(loss_list)\n",
        "plt.show()\n"
      ],
      "metadata": {
        "colab": {
          "base_uri": "https://localhost:8080/",
          "height": 282
        },
        "id": "QPahNumPfaR1",
        "outputId": "f53746c1-a3f6-4e14-9285-f16ff848c31e"
      },
      "execution_count": null,
      "outputs": [
        {
          "output_type": "stream",
          "name": "stdout",
          "text": [
            "w=0.9932. b=0.0498, batch_loss=0.000570382874381418\n"
          ]
        },
        {
          "output_type": "display_data",
          "data": {
            "text/plain": [
              "<Figure size 432x288 with 1 Axes>"
            ],
            "image/png": "[encoded data removed]"
          },
          "metadata": {
            "needs_background": "light"
          }
        }
      ]
    },
    {
      "cell_type": "code",
      "source": [
        "#0901 2변수 선형모델 MSE(평균 제곱 오차) 계산 - 난수 1개 사용\n",
        "import numpy as np\n",
        "import tensorflow as tf\n",
        "\n",
        "##def MSE(y, t):\n",
        "##    return tf.reduce_mean(tf.square(y - t)) # (y - t)**2\n",
        "MSE = tf.keras.losses.MeanSquaredError()\n",
        "\n",
        "train_data = np.array([ # t = 1*x1 + 2*x2 + 3\n",
        "#  x1, x2, t      \n",
        " [ 1,  0,  4],\n",
        " [ 2,  0,  5],\n",
        " [ 3,  0,  6],\n",
        " [ 4,  0,  7],\n",
        " [ 1,  1,  6],\n",
        " [ 2,  1,  7],\n",
        " [ 3,  1,  8],\n",
        " [ 4,  1,  9]], dtype=np.float32)\n",
        "\n",
        "X = train_data[:, :-1]  # 행: 전체 / 열: 마지막열 제외\n",
        "t = train_data[:, -1:]  # 행: 전체 / 열: 마지막열만 가져옴\n",
        "#X = tf.convert_to_tensor(X, dtype=tf.float32)\n",
        "#t = tf.convert_to_tensor(t, dtype=tf.float32)\n",
        "print(\"X=\", X)\n",
        "print(\"t=\", t)\n",
        "\n",
        "tf.random.set_seed(1) # 난수열 초기화\n",
        "W = tf.Variable(tf.random.normal(shape=[2, 1]), )\n",
        "b = tf.Variable(tf.random.normal(shape=[1]))\n",
        "##W = tf.Variable([[0.5],[0.5]], dtype=tf.float32)\n",
        "##b = tf.Variable(0.0)\n",
        "print(\"W=\", W.numpy())\n",
        "print(\"b=\", b.numpy())\n",
        "\n",
        "# matmul : matrix multiplation(행렬곱)\n",
        "y = tf.matmul(X, W) + b\n",
        "print(\"y=\", y.numpy())\n",
        "\n",
        "loss = MSE(y, t)\n",
        "print(\"MSE(y, t)=\", loss.numpy())\n"
      ],
      "metadata": {
        "colab": {
          "base_uri": "https://localhost:8080/"
        },
        "id": "x13Sn9fbfa_9",
        "outputId": "ae602971-ac53-43ce-b44d-6b45bc45339b"
      },
      "execution_count": null,
      "outputs": [
        {
          "output_type": "stream",
          "name": "stdout",
          "text": [
            "X= [[1. 0.]\n",
            " [2. 0.]\n",
            " [3. 0.]\n",
            " [4. 0.]\n",
            " [1. 1.]\n",
            " [2. 1.]\n",
            " [3. 1.]\n",
            " [4. 1.]]\n",
            "t= [[4.]\n",
            " [5.]\n",
            " [6.]\n",
            " [7.]\n",
            " [6.]\n",
            " [7.]\n",
            " [8.]\n",
            " [9.]]\n",
            "W= [[-1.1012203]\n",
            " [ 1.5457517]]\n",
            "b= [0.40308788]\n",
            "y= [[-0.6981324 ]\n",
            " [-1.7993526 ]\n",
            " [-2.900573  ]\n",
            " [-4.001793  ]\n",
            " [ 0.8476193 ]\n",
            " [-0.25360093]\n",
            " [-1.3548213 ]\n",
            " [-2.4560416 ]]\n",
            "MSE(y, t)= 70.80983\n"
          ]
        }
      ]
    },
    {
      "cell_type": "code",
      "source": [
        "#0902 2변수 선형회귀 - for문으로 난수 2000개 사용\n",
        "import numpy as np\n",
        "import tensorflow as tf\n",
        "import matplotlib.pyplot as plt\n",
        "\n",
        "MSE = tf.keras.losses.MeanSquaredError()\n",
        "\n",
        "train_data = np.array([ # t = 1*x1 + 2*x2 + 3\n",
        "#  x1, x2, t      \n",
        " [ 1,  0,  4],\n",
        " [ 2,  0,  5],\n",
        " [ 3,  0,  6],\n",
        " [ 4,  0,  7],\n",
        " [ 1,  1,  6],\n",
        " [ 2,  1,  7],\n",
        " [ 3,  1,  8],\n",
        " [ 4,  1,  9]], dtype=np.float32)\n",
        "\n",
        "X = train_data[:, :-1]\n",
        "t = train_data[:, -1:]\n",
        "\n",
        "tf.random.set_seed(1) # 난수열 초기화\n",
        "W = tf.Variable(tf.random.normal(shape=[2, 1]), )\n",
        "b = tf.Variable(tf.random.normal(shape=[1]))\n",
        "lr = 0.01  # learning rate, 0.001\n",
        "\n",
        "loss_list = [ ]\n",
        "for epoch in range(2000):   \n",
        "    with tf.GradientTape() as tape:\n",
        "        y = tf.matmul(X, W) + b\n",
        "        loss = MSE(y, t)\n",
        "    loss_list.append(loss.numpy())\n",
        "\n",
        "    dW, dB = tape.gradient(loss, [W, b])\n",
        "    W.assign_sub(lr * dW)\n",
        "    b.assign_sub(lr * dB)\n",
        "\n",
        "##    if not epoch%100:\n",
        "##        print(\"epoch={}: loss={}\".format(epoch, loss.numpy()))\n",
        "\n",
        "print(\"W={}. b={}, loss={}\".format(W.numpy(), b.numpy(), loss.numpy()))\n",
        "\n",
        "plt.plot(loss_list)\n",
        "plt.show()\n"
      ],
      "metadata": {
        "colab": {
          "base_uri": "https://localhost:8080/",
          "height": 300
        },
        "id": "cAm3Gn5sfb9t",
        "outputId": "24a9e5cc-d043-449f-e0a3-71a74b0fe444"
      },
      "execution_count": null,
      "outputs": [
        {
          "output_type": "stream",
          "name": "stdout",
          "text": [
            "W=[[1.0032761]\n",
            " [2.005639 ]]. b=[2.9875078], loss=2.3675645934417844e-05\n"
          ]
        },
        {
          "output_type": "display_data",
          "data": {
            "text/plain": [
              "<Figure size 432x288 with 1 Axes>"
            ],
            "image/png": "[encoded data removed]"
          },
          "metadata": {
            "needs_background": "light"
          }
        }
      ]
    },
    {
      "cell_type": "code",
      "source": [
        "#0903 mini-batch\n",
        "import numpy as np\n",
        "import tensorflow as tf\n",
        "import matplotlib.pyplot as plt\n",
        "\n",
        "MSE = tf.keras.losses.MeanSquaredError()\n",
        "\n",
        "train_data = np.array([ # t = 1*x1 + 2*x2 + 3\n",
        "#  x1, x2, t      \n",
        " [ 1,  0,  4],\n",
        " [ 2,  0,  5],\n",
        " [ 3,  0,  6],\n",
        " [ 4,  0,  7],\n",
        " [ 1,  1,  6],\n",
        " [ 2,  1,  7],\n",
        " [ 3,  1,  8],\n",
        " [ 4,  1,  9]], dtype=np.float32)\n",
        "\n",
        "X = train_data[:, :-1]\n",
        "t = train_data[:, -1:]\n",
        "\n",
        "tf.random.set_seed(1)\n",
        "W = tf.Variable(tf.random.normal(shape=[2, 1]), )\n",
        "b = tf.Variable(tf.random.normal(shape=[1]))\n",
        "lr = 0.01   # learning rate, 0.001\n",
        "\n",
        "train_size = X.shape[0]\n",
        "batch_size = 4\n",
        "K = train_size// batch_size\n",
        "\n",
        "loss_list = [ ]\n",
        "for epoch in range(1000):\n",
        "    batch_loss = 0.0\n",
        "    for step in range(K):\n",
        "        mask = np.random.choice(train_size, batch_size)\n",
        "        x_batch = X[mask]\n",
        "        t_batch = t[mask]\n",
        "        \n",
        "        with tf.GradientTape() as tape:\n",
        "            y = tf.matmul(x_batch, W) + b\n",
        "            loss = MSE(y, t_batch)\n",
        "            \n",
        "        batch_loss += loss.numpy()\n",
        "        \n",
        "        dW, dB = tape.gradient(loss, [W, b])\n",
        "        W.assign_sub(lr * dW)\n",
        "        b.assign_sub(lr * dB)\n",
        "        \n",
        "    batch_loss /= K    \n",
        "    loss_list.append(batch_loss) # average loss    \n",
        "##    if not epoch%100:\n",
        "##            print(\"epoch={}, batch_loss={}\".format(epoch, batch_loss))\n",
        "\n",
        "print(\"W={}. b={}, loss={}\".format(W.numpy(), b.numpy(), batch_loss))\n",
        "\n",
        "plt.plot(loss_list)\n",
        "plt.show()\n"
      ],
      "metadata": {
        "id": "CUju8osyfcju",
        "colab": {
          "base_uri": "https://localhost:8080/",
          "height": 300
        },
        "outputId": "a2bd7e8b-ee9f-4184-de35-29df8040ddc5"
      },
      "execution_count": 30,
      "outputs": [
        {
          "output_type": "stream",
          "name": "stdout",
          "text": [
            "W=[[1.0030546]\n",
            " [2.0054395]]. b=[2.9877715], loss=1.4733228454133496e-05\n"
          ]
        },
        {
          "output_type": "display_data",
          "data": {
            "text/plain": [
              "<Figure size 432x288 with 1 Axes>"
            ],
            "image/png": "[encoded data removed]"
          },
          "metadata": {
            "needs_background": "light"
          }
        }
      ]
    },
    {
      "cell_type": "markdown",
      "source": [
        "### STEP10_tf.keras.optimizers를 이용한 학습\n",
        "어떤 것을 사용하는지에 따라 손실률이 달라짐 --> 데이터에 따라 적절한 선택 필요\n",
        "  - SGD\n",
        "  - Adagrad\n",
        "  - Adam\n",
        "  - RMSprop"
      ],
      "metadata": {
        "id": "Sw_86hnTvUKw"
      }
    },
    {
      "cell_type": "code",
      "source": [
        "#1002 함수최적화\n",
        "import tensorflow as tf\n",
        "import matplotlib.pyplot as plt\n",
        "\n",
        "x = tf.Variable(2.0)\n",
        "y = tf.Variable(3.0)\n",
        "\n",
        "opt = tf.keras.optimizers.SGD(learning_rate=0.1) # learning_rate=0.001\n",
        "##opt = tf.keras.optimizers.Adagrad(0.1) \n",
        "##opt = tf.keras.optimizers.Adam(0.1) \n",
        "##opt = tf.keras.optimizers.RMSprop(0.1)\n",
        "\n",
        "loss_list = [ ]\n",
        "for epoch in range(100):\n",
        "        loss = lambda : x**2+ y**2   # function\n",
        "        loss_list.append(loss().numpy())\n",
        "        \n",
        "        opt.minimize(loss, var_list=[x, y])\n",
        "\t\n",
        "        if not epoch%10:\n",
        "                print(\"epoch={}: loss={}\".format(epoch, loss().numpy()))\n",
        "                \n",
        "print (\"x={:.5f}, y={:.5f}, loss={}\".format(\n",
        "        x.numpy(), y.numpy(), loss().numpy()))\n",
        "\n",
        "plt.plot(loss_list)\n",
        "plt.show()\n"
      ],
      "metadata": {
        "id": "_WSsTUBufdLV",
        "colab": {
          "base_uri": "https://localhost:8080/",
          "height": 456
        },
        "outputId": "8480da9a-fb59-459b-d9fe-e0533003bcd9"
      },
      "execution_count": 31,
      "outputs": [
        {
          "output_type": "stream",
          "name": "stdout",
          "text": [
            "epoch=0: loss=8.320000648498535\n",
            "epoch=10: loss=0.09592308104038239\n",
            "epoch=20: loss=0.001105917850509286\n",
            "epoch=30: loss=1.275036447623279e-05\n",
            "epoch=40: loss=1.4700168549097725e-07\n",
            "epoch=50: loss=1.6948142889106066e-09\n",
            "epoch=60: loss=1.9539881865315856e-11\n",
            "epoch=70: loss=2.25279511842022e-13\n",
            "epoch=80: loss=2.5972956661649612e-15\n",
            "epoch=90: loss=2.9944778589921956e-17\n",
            "x=0.00000, y=0.00000, loss=5.394372027788135e-19\n"
          ]
        },
        {
          "output_type": "display_data",
          "data": {
            "text/plain": [
              "<Figure size 432x288 with 1 Axes>"
            ],
            "image/png": "[encoded data removed]"
          },
          "metadata": {
            "needs_background": "light"
          }
        }
      ]
    },
    {
      "cell_type": "code",
      "source": [
        "#1003 2변수 선형회귀: MSE 손실함수에 의한 경사하강법\n",
        "import numpy as np\n",
        "import tensorflow as tf\n",
        "import matplotlib.pyplot as plt\n",
        "\n",
        "MSE = tf.keras.losses.MeanSquaredError()\n",
        "def mse_loss():\n",
        "    y = tf.matmul(X, W) + b\n",
        "    return MSE(y, t)\n",
        "##    return tf.reduce_mean(tf.square(y - t))\n",
        "\n",
        "train_data = np.array([ # t = 1*x1 + 2*x2 + 3\n",
        "#  x1, x2, t      \n",
        " [ 1,  0,  4],\n",
        " [ 2,  0,  5],\n",
        " [ 3,  0,  6],\n",
        " [ 4,  0,  7],\n",
        " [ 1,  1,  6],\n",
        " [ 2,  1,  7],\n",
        " [ 3,  1,  8],\n",
        " [ 4,  1,  9]], dtype=np.float32)\n",
        "\n",
        "X = train_data[:, :-1]\n",
        "t = train_data[:, -1:]\n",
        "\n",
        "tf.random.set_seed(1)\n",
        "W = tf.Variable(tf.random.normal(shape=[2, 1]), )\n",
        "b = tf.Variable(tf.random.normal(shape=[1]))\n",
        "\n",
        "# 함수 최적화\n",
        "##opt = tf.keras.optimizers.SGD(learning_rate=0.01)\n",
        "##opt = tf.keras.optimizers.Adagrad(0.01)\n",
        "##opt = tf.keras.optimizers.Adam(0.01) \n",
        "opt = tf.keras.optimizers.RMSprop(0.01)  # SGD보다 더 좋은 결과를 냄\n",
        "\n",
        "loss_list = [ ]\n",
        "# 반복문 내 W,b의 변화가 없음 > opt에서 처리\n",
        "for epoch in range(1000):\n",
        "    # mse_loss(손실함수)에서 [W, b]에 대해 최적화\n",
        "    opt.minimize(mse_loss, var_list= [W, b])\n",
        "\n",
        "    loss = mse_loss().numpy()\n",
        "    loss_list.append(loss)\n",
        "##    if not epoch % 100:\n",
        "##            print (\"epoch={}: loss={:.5f}\".format(epoch, loss))\t\n",
        "                    \n",
        "print (\"W={}, b={}, loss={}\".format(\n",
        "        W.numpy(), b.numpy(), loss))\t\n",
        "plt.plot(loss_list)\n",
        "plt.show()\n"
      ],
      "metadata": {
        "id": "mkpOryU1fe1-",
        "colab": {
          "base_uri": "https://localhost:8080/",
          "height": 300
        },
        "outputId": "1fe065d1-4def-4988-e889-a9470604d384"
      },
      "execution_count": 37,
      "outputs": [
        {
          "output_type": "stream",
          "name": "stdout",
          "text": [
            "W=[[1.005]\n",
            " [2.005]], b=[3.0050004], loss=0.0004375200078357011\n"
          ]
        },
        {
          "output_type": "display_data",
          "data": {
            "text/plain": [
              "<Figure size 432x288 with 1 Axes>"
            ],
            "image/png": "[encoded data removed]"
          },
          "metadata": {
            "needs_background": "light"
          }
        }
      ]
    },
    {
      "cell_type": "code",
      "source": [
        "#1004 2변수 선형회귀의 미니배치 학습\n",
        "import numpy as np\n",
        "import tensorflow as tf\n",
        "import matplotlib.pyplot as plt\n",
        "\n",
        "MSE = tf.keras.losses.MeanSquaredError()\n",
        "def mse_loss():\n",
        "    y = tf.matmul(x_batch, W) + b\n",
        "    return MSE(y, t_batch)\n",
        "##    return tf.reduce_mean(tf.square(y - t_batch))\n",
        "\n",
        "train_data = np.array([ # t = 1*x1 + 2*x2 + 3\n",
        "#  x1, x2, t      \n",
        " [ 1,  0,  4],\n",
        " [ 2,  0,  5],\n",
        " [ 3,  0,  6],\n",
        " [ 4,  0,  7],\n",
        " [ 1,  1,  6],\n",
        " [ 2,  1,  7],\n",
        " [ 3,  1,  8],\n",
        " [ 4,  1,  9]], dtype=np.float32)\n",
        "\n",
        "X = train_data[:, :-1]\n",
        "t = train_data[:, -1:]\n",
        "\n",
        "tf.random.set_seed(1)\n",
        "W = tf.Variable(tf.random.normal(shape=[2, 1]), )\n",
        "b = tf.Variable(tf.random.normal(shape=[1]))\n",
        "\n",
        "opt = tf.keras.optimizers.SGD(learning_rate=0.01)\n",
        "##opt = tf.keras.optimizers.Adagrad(0.01)\n",
        "##opt = tf.keras.optimizers.Adam(0.01) \n",
        "##opt = tf.keras.optimizers.RMSprop(0.01)\n",
        "\n",
        "train_size = X.shape[0]\n",
        "batch_size = 4\n",
        "K = train_size// batch_size\n",
        "\n",
        "loss_list = [ ]\n",
        "for epoch in range(1000):\n",
        "    batch_loss = 0.0\n",
        "    for  step  in range(K):\n",
        "        mask = np.random.choice(train_size, batch_size)\n",
        "        x_batch = X[mask]\n",
        "        t_batch = t[mask]\n",
        "        \n",
        "        opt.minimize(mse_loss, var_list= [W, b])\n",
        "        loss = mse_loss().numpy()\n",
        "        batch_loss += loss\n",
        "        \n",
        "    batch_loss /= K # average loss\n",
        "    loss_list.append(batch_loss)\n",
        "##    if not epoch % 100:\n",
        "##            print (\"epoch={}: batch_loss={:.5f}\".format(epoch, batch_loss))\t\n",
        "                    \n",
        "print (\"W={}, b={}, loss={}\".format(\n",
        "        W.numpy(), b.numpy(), batch_loss))\t\n",
        "plt.plot(loss_list)\n",
        "plt.show()\n"
      ],
      "metadata": {
        "id": "bK_EYGoWffbV"
      },
      "execution_count": null,
      "outputs": []
    },
    {
      "cell_type": "markdown",
      "source": [
        "### STEP11_다항식 회귀"
      ],
      "metadata": {
        "id": "fdQqm67K3x6X"
      }
    },
    {
      "cell_type": "code",
      "source": [
        "#1101 n=1의 다항식(직선) 회귀\n",
        "import tensorflow as tf\n",
        "import numpy as np\n",
        "import matplotlib.pyplot as plt\n",
        "\n",
        "MSE = tf.keras.losses.MeanSquaredError()\n",
        "def mse_loss():\n",
        "     y = x*w + b\n",
        "     return MSE(y, t) # tf.reduce_mean(tf.square(y - t))\n",
        "\n",
        "EPOCH = 1000\n",
        "train_size = 20\n",
        "\n",
        "# create the train data\n",
        "tf.random.set_seed(1) # np.random.seed(1)\n",
        "#입력값\n",
        "x = tf.linspace(0.0, 10.0, num=train_size) #np.linspace(0.0, 10.0, num=20)\n",
        "#가중치\n",
        "w_true, b_true = 3, -10  # truth, line parameters\n",
        "#출력값\n",
        "t = x*w_true + b_true + tf.random.normal([train_size], mean=0.0, stddev=2.0)\n",
        "print(x)\n",
        "print(t)\n",
        "\n",
        "# train parameters\n",
        "w = tf.Variable(tf.random.normal([]))\n",
        "b = tf.Variable(tf.random.normal([]))\n",
        "\n",
        "opt = tf.keras.optimizers.SGD(learning_rate=0.01)\n",
        "\n",
        "loss_list = [ ]\n",
        "for epoch in range(EPOCH):   \n",
        "    opt.minimize(mse_loss, var_list= [w, b])\n",
        "     \n",
        "    loss = mse_loss().numpy()\n",
        "    loss_list.append(loss)\n",
        "    if not epoch%100:\n",
        "        print(\"epoch={}: loss={}\".format(epoch, loss))\n",
        "\n",
        "print(\"w={:>.4f}. b={:>.4f}, loss={}\".format(w.numpy(), b.numpy(), loss))\n",
        "\n",
        "plt.plot(loss_list)\n",
        "plt.show()\n",
        "\n",
        "plt.scatter(x, t.numpy())  # train data plot\n",
        "\n",
        "w_pred, b_pred = w.numpy(), b.numpy() # predicted, line parameters\n",
        "t_pred= x*w_pred + b_pred \n",
        "plt.plot(x, t_pred, 'r-')\n",
        "plt.show()\n"
      ],
      "metadata": {
        "id": "rxbFdsDafggG",
        "colab": {
          "base_uri": "https://localhost:8080/",
          "height": 878
        },
        "outputId": "cce83f06-fe34-438c-d86a-89494d4d7daf"
      },
      "execution_count": 40,
      "outputs": [
        {
          "output_type": "stream",
          "name": "stdout",
          "text": [
            "tf.Tensor(\n",
            "[ 0.         0.5263158  1.0526316  1.5789474  2.1052632  2.631579\n",
            "  3.1578948  3.6842108  4.2105265  4.736842   5.263158   5.789474\n",
            "  6.3157897  6.8421054  7.3684216  7.8947372  8.421053   8.947369\n",
            "  9.473684  10.       ], shape=(20,), dtype=float32)\n",
            "tf.Tensor(\n",
            "[-12.20244     -5.32955     -6.0748167   -7.0224733   -6.1335545\n",
            "  -4.0675054   -0.35070002   0.6461116    1.515267     2.7694383\n",
            "   4.537489     5.9383698    8.25066      9.853376    12.470416\n",
            "  15.901402    17.822475    16.799154    17.781675    20.74665   ], shape=(20,), dtype=float32)\n",
            "epoch=0: loss=37.226837158203125\n",
            "epoch=100: loss=12.824580192565918\n",
            "epoch=200: loss=5.855209827423096\n",
            "epoch=300: loss=3.433420181274414\n",
            "epoch=400: loss=2.5918679237365723\n",
            "epoch=500: loss=2.2994384765625\n",
            "epoch=600: loss=2.197822093963623\n",
            "epoch=700: loss=2.162510871887207\n",
            "epoch=800: loss=2.1502411365509033\n",
            "epoch=900: loss=2.14597749710083\n",
            "w=3.1359. b=-10.9725, loss=2.1445038318634033\n"
          ]
        },
        {
          "output_type": "display_data",
          "data": {
            "text/plain": [
              "<Figure size 432x288 with 1 Axes>"
            ],
            "image/png": "[encoded data removed]"
          },
          "metadata": {
            "needs_background": "light"
          }
        },
        {
          "output_type": "display_data",
          "data": {
            "text/plain": [
              "<Figure size 432x288 with 1 Axes>"
            ],
            "image/png": "[encoded data removed]"
          },
          "metadata": {
            "needs_background": "light"
          }
        }
      ]
    },
    {
      "cell_type": "code",
      "source": [
        "#1102 n=2의 다항식(포물선) 회귀\n",
        "import tensorflow as tf\n",
        "import numpy as np\n",
        "import matplotlib.pyplot as plt\n",
        "\n",
        "MSE = tf.keras.losses.MeanSquaredError()\n",
        "def mse_loss():\n",
        "     y = a*x**2 + b*x+c\n",
        "##     y = a*tf.pow(x, 2) + b**x + c\n",
        "     return MSE(y, t) # tf.reduce_mean(tf.square(y - t))\n",
        "\n",
        "EPOCH = 1000\n",
        "train_size = 20\n",
        "\n",
        "# create the train data\n",
        "tf.random.set_seed(1) # np.random.seed(1)\n",
        "\n",
        "#입력값\n",
        "x = tf.linspace(-5.0, 5.0, num=train_size)\n",
        "\n",
        "#가중치\n",
        "a_true = tf.Variable(3.0)\n",
        "b_true = tf.Variable(2.0)\n",
        "c_true = tf.Variable(1.0)\n",
        "\n",
        "#출력값\n",
        "t = a_true*tf.pow(x, 2) + b_true*x+c_true\n",
        "t += tf.random.normal([train_size], mean=0.0, stddev = 2)\n",
        "#t = tf.add(t, np.random.normal(0, 2.0, train_size))\n",
        "\n",
        "a = tf.Variable(tf.random.normal([]))\n",
        "b = tf.Variable(tf.random.normal([]))\n",
        "c = tf.Variable(tf.random.normal([]))\n",
        "\n",
        "#최적화         \n",
        "opt = tf.keras.optimizers.SGD(learning_rate=0.001)\n",
        "#opt = tf.keras.optimizers.Adam(learning_rate=0.01)\n",
        "##opt = tf.keras.optimizers.RMSprop(0.01)\n",
        "\n",
        "loss_list = [ ]\n",
        "for epoch in range(EPOCH):   \n",
        "    opt.minimize(mse_loss, var_list= [a, b, c])\n",
        "     \n",
        "    loss = mse_loss().numpy()\n",
        "    loss_list.append(loss)\n",
        "\n",
        "    if not epoch%100:\n",
        "        print(\"epoch={}: loss={}\".format(epoch, loss))      \n",
        "\n",
        "print(\"a={:>.4f}. b={:>.4f}, c={:>.4f}, loss={}\".format(\n",
        "       a.numpy(), b.numpy(), c.numpy(),loss))\n",
        "\n",
        "plt.plot(loss_list)\n",
        "plt.show()\n",
        "\n",
        "plt.scatter(x, t.numpy())\n",
        "\n",
        "t_pred = a*tf.pow(x, 2) + b*x + c # parabola curve\n",
        "plt.plot(x, t_pred, 'red')\n",
        "plt.show()\n"
      ],
      "metadata": {
        "id": "MArg6XSffg82",
        "colab": {
          "base_uri": "https://localhost:8080/",
          "height": 704
        },
        "outputId": "9fffdc2a-4b28-4aac-837f-541afaf9b42c"
      },
      "execution_count": 41,
      "outputs": [
        {
          "output_type": "stream",
          "name": "stdout",
          "text": [
            "epoch=0: loss=544.3561401367188\n",
            "epoch=100: loss=4.4196858406066895\n",
            "epoch=200: loss=2.833024263381958\n",
            "epoch=300: loss=2.660134792327881\n",
            "epoch=400: loss=2.5432887077331543\n",
            "epoch=500: loss=2.446033000946045\n",
            "epoch=600: loss=2.364523410797119\n",
            "epoch=700: loss=2.2961974143981934\n",
            "epoch=800: loss=2.238931179046631\n",
            "epoch=900: loss=2.1909241676330566\n",
            "a=3.0130. b=2.1439, c=0.8757, loss=2.151054859161377\n"
          ]
        },
        {
          "output_type": "display_data",
          "data": {
            "text/plain": [
              "<Figure size 432x288 with 1 Axes>"
            ],
            "image/png": "[encoded data removed]"
          },
          "metadata": {
            "needs_background": "light"
          }
        },
        {
          "output_type": "display_data",
          "data": {
            "text/plain": [
              "<Figure size 432x288 with 1 Axes>"
            ],
            "image/png": "[encoded data removed]"
          },
          "metadata": {
            "needs_background": "light"
          }
        }
      ]
    },
    {
      "cell_type": "code",
      "source": [
        "#1103 n차 다항식 회귀\n",
        "import tensorflow as tf\n",
        "import numpy as np\n",
        "import matplotlib.pyplot as plt\n",
        "\n",
        "MSE = tf.keras.losses.MeanSquaredError()\n",
        "def mse_loss():\n",
        "     y = tf.zeros_like(x)\n",
        "     for i in range(W.shape[0]):\n",
        "          y += W[i]*(x**(i+1))\n",
        "     y += b # bias\n",
        "     return MSE(y, t) # tf.reduce_mean(tf.square(y - t))\n",
        "\n",
        "EPOCH = 5000\n",
        "train_size = 20\n",
        "\n",
        "# create the train data\n",
        "tf.random.set_seed(1)\n",
        "#입력값\n",
        "x = tf.linspace(-5.0, 5.0, num=train_size)\n",
        "#가중치\n",
        "w_true = tf.Variable([1.0, 2.0, 3.0])\n",
        "b_true = tf.Variable(4.0)    \n",
        "#출력값(3차 다항식)\n",
        "t = w_true[2]*x**3 + w_true[1]*x**2 + w_true[0]*x + b_true      \n",
        "t += tf.random.normal([train_size], mean=0.0, stddev = 30)\n",
        "\n",
        "# train variables\n",
        "n = 4 # n-th polynomial curve\n",
        "W = tf.Variable(tf.random.normal([n]))\n",
        "b = tf.Variable(tf.random.normal([])) \n",
        "\n",
        "opt = tf.keras.optimizers.Adam(learning_rate=0.01)\n",
        "##opt = tf.keras.optimizers.RMSprop(0.01)\n",
        "\n",
        "loss_list = [ ]\n",
        "for epoch in range(EPOCH): \n",
        "    opt.minimize(mse_loss, var_list= [W, b])\n",
        "     \n",
        "    loss = mse_loss().numpy()\n",
        "    loss_list.append(loss)\n",
        "\n",
        "    if not epoch%100:\n",
        "        print(\"epoch={}: loss={}\".format(epoch, loss))\n",
        "        \n",
        "print(\"W={}. b={}, loss={}\".format(W.numpy(), b.numpy(),loss))\n",
        "plt.plot(loss_list)\n",
        "plt.show()\n",
        "\n",
        "plt.scatter(x, t.numpy())\n",
        "\n",
        "# polynomial curve\n",
        "t_pred = tf.zeros_like(x)\n",
        "for i in range(W.shape[0]): # n = W.shape[0] \n",
        "     t_pred += W[i]*(x**(i+1))\n",
        "t_pred += b # bias\n",
        "     \n",
        "plt.plot(x, t_pred, 'red')\n",
        "plt.show()\n"
      ],
      "metadata": {
        "id": "dnlQ8n7Ifioe",
        "colab": {
          "base_uri": "https://localhost:8080/",
          "height": 1000
        },
        "outputId": "640ec7bd-04c2-4a56-aa8e-f3ff4dadb36b"
      },
      "execution_count": 42,
      "outputs": [
        {
          "output_type": "stream",
          "name": "stdout",
          "text": [
            "epoch=0: loss=116887.015625\n",
            "epoch=100: loss=21675.77734375\n",
            "epoch=200: loss=6637.4423828125\n",
            "epoch=300: loss=2749.081298828125\n",
            "epoch=400: loss=1326.5841064453125\n",
            "epoch=500: loss=889.1710205078125\n",
            "epoch=600: loss=774.9906005859375\n",
            "epoch=700: loss=743.7776489257812\n",
            "epoch=800: loss=728.9998168945312\n",
            "epoch=900: loss=716.5152587890625\n",
            "epoch=1000: loss=704.0681762695312\n",
            "epoch=1100: loss=691.4610595703125\n",
            "epoch=1200: loss=678.7669677734375\n",
            "epoch=1300: loss=666.07958984375\n",
            "epoch=1400: loss=653.48583984375\n",
            "epoch=1500: loss=641.0647583007812\n",
            "epoch=1600: loss=628.8851318359375\n",
            "epoch=1700: loss=617.00732421875\n",
            "epoch=1800: loss=605.480712890625\n",
            "epoch=1900: loss=594.3460693359375\n",
            "epoch=2000: loss=583.6339111328125\n",
            "epoch=2100: loss=573.36376953125\n",
            "epoch=2200: loss=563.5482788085938\n",
            "epoch=2300: loss=554.1884155273438\n",
            "epoch=2400: loss=545.279541015625\n",
            "epoch=2500: loss=536.8078002929688\n",
            "epoch=2600: loss=528.7535400390625\n",
            "epoch=2700: loss=521.0924072265625\n",
            "epoch=2800: loss=513.7959594726562\n",
            "epoch=2900: loss=506.83294677734375\n",
            "epoch=3000: loss=500.1710510253906\n",
            "epoch=3100: loss=493.77777099609375\n",
            "epoch=3200: loss=487.62286376953125\n",
            "epoch=3300: loss=481.676513671875\n",
            "epoch=3400: loss=475.91339111328125\n",
            "epoch=3500: loss=470.31182861328125\n",
            "epoch=3600: loss=464.853515625\n",
            "epoch=3700: loss=459.5255432128906\n",
            "epoch=3800: loss=454.3182067871094\n",
            "epoch=3900: loss=449.22698974609375\n",
            "epoch=4000: loss=444.249267578125\n",
            "epoch=4100: loss=439.38690185546875\n",
            "epoch=4200: loss=434.6439514160156\n",
            "epoch=4300: loss=430.025634765625\n",
            "epoch=4400: loss=425.5394592285156\n",
            "epoch=4500: loss=421.19281005859375\n",
            "epoch=4600: loss=416.9942932128906\n",
            "epoch=4700: loss=412.9518127441406\n",
            "epoch=4800: loss=409.0727233886719\n",
            "epoch=4900: loss=405.36407470703125\n",
            "W=[ 6.2172146   3.2541258   2.8085203  -0.03268714]. b=-5.529249668121338, loss=401.86700439453125\n"
          ]
        },
        {
          "output_type": "display_data",
          "data": {
            "text/plain": [
              "<Figure size 432x288 with 1 Axes>"
            ],
            "image/png": "[encoded data removed]"
          },
          "metadata": {
            "needs_background": "light"
          }
        },
        {
          "output_type": "display_data",
          "data": {
            "text/plain": [
              "<Figure size 432x288 with 1 Axes>"
            ],
            "image/png": "[encoded data removed]"
          },
          "metadata": {
            "needs_background": "light"
          }
        }
      ]
    }
  ]
}