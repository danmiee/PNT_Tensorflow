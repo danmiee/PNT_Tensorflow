{
  "cells": [
    {
      "cell_type": "markdown",
      "metadata": {
        "id": "P2gFVVyo89yG"
      },
      "source": [
        "# CNN(Convolutional Neural Network)"
      ]
    },
    {
      "cell_type": "markdown",
      "metadata": {
        "id": "4rjE6m-a9D_d"
      },
      "source": [
        "- 합성곱 층(Convolution layer) 과 완전 연결 층(Dense layer)의 차이\n",
        "\n",
        "  - 완전 연결 층은 입력 이미지 전역 패턴 학습하지만, 합성곱 층은 입력 이미지 지역 패턴 학습한다.\n",
        "  - 특징\n",
        "    - 평행이동 불변성: 평행이동 된 지역 패턴은 같은 패턴으로 인식한다. <br> 이는 합성곱 신경망이 효율적으로 지역 패턴 학습하게 한다. <br> 또, 인간 두뇌가 객체 인식하는 방법과 같다.\n",
        "    - 객체를 계층적 인식: 컨브넷은 객체를 계층적으로 인식한다. <br> 각 위치 에지, 질감에서 시작해서 귀, 코, 눈 등 더 상위 개념을 순차.계층적으로 인식해간다. <br> 두뇌가 객체 인식하는 방법과 같다."
      ]
    },
    {
      "cell_type": "markdown",
      "metadata": {
        "id": "xozGM5fM9X_h"
      },
      "source": [
        "- 합성곱 연산\n",
        "  - 합성곱 층은 입력 이미지 받아 합성곱 연산 수행하고, 결과 출력한다.\n",
        "  - 합성곱 연산은 입력 이미지 모든 위치에서 지역 패턴들 추출한다.\n",
        "  - 지역패턴에는 에지(Edge), 질감(Texture) 등 포함된다."
      ]
    },
    {
      "cell_type": "markdown",
      "metadata": {
        "id": "aWYulnpR9f3-"
      },
      "source": [
        "- 합성곱 연산 과정\n",
        "  1. 입력 이미지 위를 3 × 3 또는 5 × 5 크기 윈도우가 슬라이딩(Sliding) 하며 3 × 3 또는 5 × 5 크기 패치(Patch:작은 조각) \n",
        "추출한다. <br> (윈도우 사이즈 크기 패치 추출한다)\n",
        "  2. 각 패치와. 에지, 질감 등 지역 특징 담고있는 필터(또는 커널)를 요소별 텐서 곱 연산 한다.\n",
        "  3. 텐서 곱 연산 결과 모두 합한다. 곧, 2 과정은 패치 각 요소를 가중합 한 것과 같다.\n",
        "  4. <3> 결과를 특성 맵(Feature Map) 또는 응답 맵(Responsse Map) 이라고 한다. <br> 입력 이미지 각 위치에 그 필터 패턴이 \n",
        "나타나 있었는지 확인. 응답한 결과다.\n",
        "  5. 입력 이미지 각 채널(예: RGB 3개) 별로 각각 다른 필터 적용된다.\n",
        "    - 1개 합성곱 층에서 입력 이미지에 대해 여러 개 필터 적용한다(예: 32개, 64개, 128개…).\n",
        "    - 보통 1개 합성곱 층 필터 개수는 하위 층에서 상위 층 갈 수록 2 제곱 수로 점차 증가시켜 간다.\n",
        "    - 일반 경우, 합성곱 하위 층에서 상위 층(더 깊은 층) 갈 수록, 각 층의 출력 특성 맵 크기는 줄어든다."
      ]
    },
    {
      "cell_type": "markdown",
      "metadata": {
        "id": "dvqhVnjP93R7"
      },
      "source": [
        "- 패딩\n",
        "  - Zero Padding\n",
        "    - 입력 특성 맵과 출력 특성 맵 크기를 같게 하고 싶으면 입력 특성 맵에 패딩(Padding) 추가하면 된다.\n",
        "    - 입력 특성 맵 가장자리에 적절한 개수 행과 열 추가하는 걸 패딩이라 한다.\n",
        "    - 패딩 자리에 보통 0 넣기 때문에, 제로 패딩 이라고도 한다.\n",
        "    - 위 행렬에 대해 합성곱 하면 출력 특성 맵 크기가 입력 특성 맵과 같아진다 (5∗5)"
      ]
    },
    {
      "cell_type": "markdown",
      "metadata": {
        "id": "F91XIaty-SZ3"
      },
      "source": [
        "- 케라스에서 패딩 사용하기\n",
        "  - Conv2D 층에서 padding 파라미터 설정하면 된다. ‘valid’ 는 패딩 사용 안함, ‘same’은 패딩 사용함 이다.\n",
        "  - 기본 파라미터는 valid (패딩 사용 안함) 이다"
      ]
    },
    {
      "cell_type": "markdown",
      "metadata": {
        "id": "ILYt2DEx-WUw"
      },
      "source": [
        "- 스트라이드(Stride): 보폭\n",
        "  - 연속한 두 윈도우 사이 거리를 스트라이드 라고 한다.\n",
        "  - 스트라이드 값 기본은 1이다."
      ]
    },
    {
      "cell_type": "markdown",
      "metadata": {
        "id": "X1VtMrom-e5u"
      },
      "source": [
        "- 최대 풀링 연산\n",
        "  - 합성 곱 층 출력 특성맵 받아 다운샘플링(행렬 크기 줄이기) 하는 연산이다.\n",
        "  - 2∗2 윈도우와 스트라이드 2 사용해서, 패치 별로 최댓값만 추출한다."
      ]
    },
    {
      "cell_type": "markdown",
      "metadata": {
        "id": "kehARR8a-jjI"
      },
      "source": [
        "- 최대 풀링 연산 목적\n",
        "  - 입력을 다운샘플링 해서, 특성 맵 가중치 개수를 줄인다.\n",
        "  - 모델이 공간적 계층 구조 학습하는 걸 돕는다"
      ]
    },
    {
      "cell_type": "markdown",
      "metadata": {
        "id": "83f5cUj--m6t"
      },
      "source": [
        "## 간단한 컨브넷 만들기"
      ]
    },
    {
      "cell_type": "markdown",
      "metadata": {
        "id": "c04ZiEgw-sdP"
      },
      "source": [
        "### MNIST 이미지 분류하는 간단한 컨브넷 만들기"
      ]
    },
    {
      "cell_type": "code",
      "execution_count": 14,
      "metadata": {
        "colab": {
          "base_uri": "https://localhost:8080/",
          "height": 798
        },
        "id": "LeQp7Q4FpwL8",
        "outputId": "5be70d50-68d3-4f07-edb7-17873f97b8f6"
      },
      "outputs": [
        {
          "name": "stdout",
          "output_type": "stream",
          "text": [
            "Model: \"sequential_9\"\n",
            "_________________________________________________________________\n",
            " Layer (type)                Output Shape              Param #   \n",
            "=================================================================\n",
            " conv2d_24 (Conv2D)          (None, 26, 26, 32)        320       \n",
            "                                                                 \n",
            " max_pooling2d_16 (MaxPoolin  (None, 13, 13, 32)       0         \n",
            " g2D)                                                            \n",
            "                                                                 \n",
            " conv2d_25 (Conv2D)          (None, 11, 11, 64)        18496     \n",
            "                                                                 \n",
            " max_pooling2d_17 (MaxPoolin  (None, 5, 5, 64)         0         \n",
            " g2D)                                                            \n",
            "                                                                 \n",
            " conv2d_26 (Conv2D)          (None, 3, 3, 64)          36928     \n",
            "                                                                 \n",
            " flatten_10 (Flatten)        (None, 576)               0         \n",
            "                                                                 \n",
            " dense_22 (Dense)            (None, 64)                36928     \n",
            "                                                                 \n",
            " dense_23 (Dense)            (None, 10)                650       \n",
            "                                                                 \n",
            "=================================================================\n",
            "Total params: 93,322\n",
            "Trainable params: 93,322\n",
            "Non-trainable params: 0\n",
            "_________________________________________________________________\n",
            "188/188 - 1s - loss: 0.0414 - accuracy: 0.9875 - 1s/epoch - 6ms/step\n",
            "313/313 - 2s - loss: 0.0934 - accuracy: 0.9697 - 2s/epoch - 6ms/step\n"
          ]
        },
        {
          "data": {
            "image/png": "[encoded data removed]",
            "text/plain": [
              "<Figure size 432x288 with 1 Axes>"
            ]
          },
          "metadata": {
            "needs_background": "light"
          },
          "output_type": "display_data"
        }
      ],
      "source": [
        "import tensorflow as tf\n",
        "from tensorflow.keras.datasets import mnist\n",
        "import numpy as np\n",
        "import matplotlib.pyplot as plt\n",
        "#1\n",
        "(x_train, y_train), (x_test, y_test) = mnist.load_data()\n",
        "\n",
        "# subsampling for overfitting\n",
        "n_sample = 6000\n",
        "x_train = x_train[:n_sample]\n",
        "y_train = y_train[:n_sample]\n",
        "\n",
        "#2:normalize images\n",
        "x_train = x_train.astype('float32')\n",
        "x_test  = x_test.astype('float32')\n",
        "x_train /= 255.0 # [0, 1]\n",
        "x_test  /= 255.0\n",
        "\n",
        "#3: one-hot encoding\n",
        "y_train = tf.keras.utils.to_categorical(y_train) # (n_sample, 10)\n",
        "y_test = tf.keras.utils.to_categorical(y_test)   # (10000,    10)\n",
        "\n",
        "#4: build a model with dropout\n",
        "act = \"sigmoid\"\n",
        "# act = \"relu\"\n",
        "init = \"he_uniform\"\n",
        "\n",
        "# 간단한 컨브넷 작성\n",
        "# 이미지 특징 추출 층(합성곱 기반 층)\n",
        "model = models.Sequential()\n",
        "# 필터 수, 패치 사이즈(3*3), 요소별 적용할 활성화 함수, 입력 특성 맵 사이즈\n",
        "model.add(layers.Conv2D(32, (3, 3), activation='relu', input_shape=(28, 28, 1)))\n",
        "model.add(layers.MaxPooling2D(2, 2))\n",
        "# activation='relu' : 음수와 0은 모두 0, 양수값만 남김\n",
        "model.add(layers.Conv2D(64, (3, 3), activation='relu'))\n",
        "model.add(layers.MaxPooling2D(2, 2))\n",
        "model.add(layers.Conv2D(64, (3, 3), activation='relu'))\n",
        "model.add(layers.Flatten())  # 특성공학 결과물 1차원 텐서(벡터)로 변환하는 층\n",
        "\n",
        "# 완전 연결 분류기\n",
        "model.add(layers.Dense(64, activation='relu'))\n",
        "model.add(layers.Dense(10, activation='softmax'))  # 출력층 : 최상위층, 분류 결과물 확률 꼴로 변환\n",
        "\n",
        "# 모델 설계 결과 요약\n",
        "model.summary()\n",
        "\n",
        "#4-1: configure the model for training\n",
        "##opt = tf.keras.optimizers.RMSprop(learning_rate=0.01)\n",
        "# 모델 컴파일(학습 준비 - Optimizer, loss function, 성능 측정 metric 지정)\n",
        "model.compile(optimizer='rmsprop', loss='categorical_crossentropy', metrics=['accuracy'])\n",
        "\n",
        "#4-2: train and evaluate the model\n",
        "# 모델 학습\n",
        "ret = model.fit(x_train, y_train, epochs=5, batch_size=64,\n",
        "                validation_data = (x_test, y_test), verbose=0)\n",
        "\n",
        "train_loss, train_acc = model.evaluate(x_train, y_train, verbose=2)\n",
        "test_loss, test_acc   = model.evaluate(x_test,  y_test, verbose=2)\n",
        "\n",
        "#4-3: plot accuracies\n",
        "plt.title(\"Dropout rate = %s, %s traing data in mnist\"%(dropout_rate, n_sample))\n",
        "plt.plot(ret.history['accuracy'],     \"b-\", label=\"train accuracy\")\n",
        "plt.plot(ret.history['val_accuracy'], \"r-\", label=\"val accuracy\")\n",
        "plt.xlabel('epochs')\n",
        "plt.ylabel('accuracy')\n",
        "plt.legend(loc=\"best\")\n",
        "plt.show()"
      ]
    },
    {
      "cell_type": "code",
      "execution_count": null,
      "metadata": {
        "colab": {
          "base_uri": "https://localhost:8080/"
        },
        "id": "QGQc1lX5qBE_",
        "outputId": "36310bfe-d0f2-4af8-c917-2614d8a97952"
      },
      "outputs": [
        {
          "name": "stdout",
          "output_type": "stream",
          "text": [
            "Downloading data from https://www.cs.toronto.edu/~kriz/cifar-10-python.tar.gz\n",
            "170498071/170498071 [==============================] - 2s 0us/step\n"
          ]
        }
      ],
      "source": [
        "import tensorflow as tf\n",
        "from tensorflow.keras.datasets import cifar10\n",
        "import numpy as np\n",
        "import matplotlib.pyplot as plt\n",
        "\n",
        "#1\n",
        "(x_train, y_train), (x_test, y_test) = cifar10.load_data()\n",
        "\n",
        "#2:normalize images\n",
        "x_train = x_train.astype('float32')\n",
        "x_test  = x_test.astype('float32')\n",
        "x_train /= 255.0 # [0, 1]a\n",
        "x_test  /= 255.0\n",
        "\n",
        "#3: one-hot encoding\n",
        "y_train = tf.keras.utils.to_categorical(y_train) # (50000, 10)\n",
        "y_test = tf.keras.utils.to_categorical(y_test)   # (10000, 10)\n",
        "\n",
        "#4: build a model with dropout\n",
        "act =  tf.keras.layers.LeakyReLU(alpha=0.3) #'relu','sigmoid'\n",
        "init = 'he_uniform'\n",
        "\n",
        "n = 10\n",
        "dropout_rate = 0.2 # 0.5\n",
        "model = models.Sequential()\n",
        "\n",
        "model.add(layers.Conv2D(32, (3, 3), activation='relu', input_shape=(32, 32, 3)))\n",
        "model.add(layers.MaxPooling2D(2, 2))\n",
        "model.add(layers.Conv2D(64, (3, 3), activation='relu'))\n",
        "model.add(layers.MaxPooling2D(2, 2))\n",
        "model.add(layers.Conv2D(64, (3, 3), activation='relu'))\n",
        "model.add(layers.Flatten())\n",
        "\n",
        "model.add(layers.Dense(64, activation='relu'))\n",
        "model.add(layers.Dense(10, activation='softmax'))\n",
        "\n",
        "model.summary\n",
        "\n",
        "#4-1: configure the model for training\n",
        "opt = tf.keras.optimizers.RMSprop(learning_rate=0.001)\n",
        "model.compile(optimizer='rmsprop', \n",
        "            loss='categorical_crossentropy', \n",
        "            metrics=['accuracy'])\n",
        "\n",
        "#4-2: train and evaluate the model\n",
        "ret = model.fit(x_train, y_train, \n",
        "                epochs=5, batch_size=64,\n",
        "                validation_data = (x_test, y_test), verbose=0)\n",
        "\n",
        "train_loss, train_acc = model.evaluate(x_train, y_train, verbose=2)\n",
        "test_loss, test_acc   = model.evaluate(x_test,  y_test, verbose=2)\n",
        "\n",
        "#4-3: plot accuracies\n",
        "plt.plot(ret.history['accuracy'],     \"b-\", label=\"train accuracy\")\n",
        "plt.plot(ret.history['val_accuracy'], \"r-\", label=\"val accuracy\")\n",
        "plt.xlabel('epochs')\n",
        "plt.ylabel('accuracy')\n",
        "plt.legend(loc=\"best\")\n",
        "plt.show()\n"
      ]
    },
    {
      "cell_type": "markdown",
      "metadata": {
        "id": "_E-FEBOQ8wAH"
      },
      "source": [
        "### Kaggle 개 vs 고양이 데이터 소개\n",
        "\n",
        "- Total training cat image: 1000 개 \n",
        "- Total training dog image: 1000 개 \n",
        "- Total validation cat image: 500 개 \n",
        "- Total validation dog image: 500 개"
      ]
    },
    {
      "cell_type": "code",
      "execution_count": 5,
      "metadata": {
        "colab": {
          "base_uri": "https://localhost:8080/"
        },
        "id": "9VMFVMZg06G3",
        "outputId": "7de16163-f49e-478a-e8fe-b69fefa99006"
      },
      "outputs": [
        {
          "name": "stdout",
          "output_type": "stream",
          "text": [
            "Model: \"sequential_1\"\n",
            "_________________________________________________________________\n",
            " Layer (type)                Output Shape              Param #   \n",
            "=================================================================\n",
            " conv2d_1 (Conv2D)           (None, 148, 148, 32)      896       \n",
            "                                                                 \n",
            " max_pooling2d (MaxPooling2D  (None, 74, 74, 32)       0         \n",
            " )                                                               \n",
            "                                                                 \n",
            " conv2d_2 (Conv2D)           (None, 72, 72, 64)        18496     \n",
            "                                                                 \n",
            " max_pooling2d_1 (MaxPooling  (None, 36, 36, 64)       0         \n",
            " 2D)                                                             \n",
            "                                                                 \n",
            " conv2d_3 (Conv2D)           (None, 34, 34, 128)       73856     \n",
            "                                                                 \n",
            " max_pooling2d_2 (MaxPooling  (None, 17, 17, 128)      0         \n",
            " 2D)                                                             \n",
            "                                                                 \n",
            " conv2d_4 (Conv2D)           (None, 15, 15, 128)       147584    \n",
            "                                                                 \n",
            " max_pooling2d_3 (MaxPooling  (None, 7, 7, 128)        0         \n",
            " 2D)                                                             \n",
            "                                                                 \n",
            " flatten (Flatten)           (None, 6272)              0         \n",
            "                                                                 \n",
            " dense (Dense)               (None, 512)               3211776   \n",
            "                                                                 \n",
            " dense_1 (Dense)             (None, 1)                 513       \n",
            "                                                                 \n",
            "=================================================================\n",
            "Total params: 3,453,121\n",
            "Trainable params: 3,453,121\n",
            "Non-trainable params: 0\n",
            "_________________________________________________________________\n"
          ]
        }
      ],
      "source": [
        "# 네트워크 구성\n",
        "\n",
        "from keras import layers\n",
        "from keras import models\n",
        "\n",
        "model = models.Sequential()\n",
        "# 입력 특성 맵에 적용할 필터 수 : 32, 윈도우 사이즈, 활성화함수, 입력 데이터 규격 : 150*150, RGB 3채널\n",
        "model.add(layers.Conv2D(32, (3, 3), activation='relu', input_shape=(150, 150, 3)))\n",
        "model.add(layers.MaxPooling2D((2, 2)))  # 최대 풀링 연산 적용할 윈도우 사이즈 - 다운샘플링(크기 축소)\n",
        "model.add(layers.Conv2D(64, (3, 3), activation='relu'))  # 입력 특성 맵에 적용할 필터 수 : 64, 윈도우 사이즈, 활성화 함수\n",
        "model.add(layers.MaxPooling2D((2, 2)))  # 윈도우 사이즈\n",
        "model.add(layers.Conv2D(128, (3, 3), activation='relu'))  # 필터 수 : 128개, 윈도우 사이즈\n",
        "model.add(layers.MaxPooling2D((2, 2)))  # 윈도우 사이즈\n",
        "model.add(layers.Conv2D(128, (3, 3), activation='relu'))  # 필터 수 : 128개, 윈도우 사이즈\n",
        "model.add(layers.MaxPooling2D((2, 2)))  # 윈도우 사이즈\n",
        "# 여기까지 합성곱 기반 층(지역 패턴 추출 층)\n",
        "\n",
        "# 여기서부터 완전 연결 층(전역 패턴 추출, 분류기)\n",
        "model.add(layers.Flatten())  # 1차원 텐서(벡터)로 변환\n",
        "model.add(layers.Dense(512, activation='relu'))  # 512차원 벡터공간에 투영\n",
        "model.add(layers.Dense(1, activation='sigmoid'))\n",
        "\n",
        "model.summary()\n",
        "# 1. 150*150 입력 이미지에서 3*3 윈도우 슬라이딩하면서 3*3 패치 추출 -> 32개 필터에 대해 합성곱 -> 148*148*32\n",
        "# 2. 2*2 윈도우 1의 출력 특성 맵에 적용해서 패치 구역별 최댓값만 추출 -> 출력 특성 맵 크기가 절반으로 줄어듦 -> 74*74*32\n",
        "# 3. 2의 출력 특성 맵에서 다시 3*3 패치 추출 -> 64개 필터에 대해 합성곱 -> 72*72*64\n",
        "# 4. 2번처럼 최대 풀링 연산 3 출력에 적용 -> 출력 특성 맵 크기 절반으로 줄어듦 -> 36*36*64\n",
        "# 5. 3*3 패치, 128개 필터에 대해 합성곱 -> 34*34*128\n",
        "# 6. 최대 풀링 연산 적용 -> 17*17*128\n",
        "# 7. 3*3 패치, 128개 필터에 대해 합성곱 -> 15*15*128\n",
        "# 8. 최대 풀링 연산 적용 -> 7*7*128\n",
        "# 9. 완전 연결 분류기 주입 위해 1차원 텐서(벡터)로 변환하는 층\n",
        "# 10. 512차원 벡터공간에 투영\n",
        "# 11. 1차원 벡터공간으로 차원축소 후 시그모이드 함수 적용"
      ]
    },
    {
      "cell_type": "code",
      "execution_count": 7,
      "metadata": {},
      "outputs": [
        {
          "name": "stdout",
          "output_type": "stream",
          "text": [
            "Model: \"sequential_2\"\n",
            "_________________________________________________________________\n",
            " Layer (type)                Output Shape              Param #   \n",
            "=================================================================\n",
            " conv2d_5 (Conv2D)           (None, 148, 148, 32)      896       \n",
            "                                                                 \n",
            " batch_normalization (BatchN  (None, 148, 148, 32)     128       \n",
            " ormalization)                                                   \n",
            "                                                                 \n",
            " max_pooling2d_4 (MaxPooling  (None, 74, 74, 32)       0         \n",
            " 2D)                                                             \n",
            "                                                                 \n",
            " conv2d_6 (Conv2D)           (None, 72, 72, 64)        18496     \n",
            "                                                                 \n",
            " batch_normalization_1 (Batc  (None, 72, 72, 64)       256       \n",
            " hNormalization)                                                 \n",
            "                                                                 \n",
            " max_pooling2d_5 (MaxPooling  (None, 36, 36, 64)       0         \n",
            " 2D)                                                             \n",
            "                                                                 \n",
            " conv2d_7 (Conv2D)           (None, 34, 34, 128)       73856     \n",
            "                                                                 \n",
            " batch_normalization_2 (Batc  (None, 34, 34, 128)      512       \n",
            " hNormalization)                                                 \n",
            "                                                                 \n",
            " max_pooling2d_6 (MaxPooling  (None, 17, 17, 128)      0         \n",
            " 2D)                                                             \n",
            "                                                                 \n",
            " conv2d_8 (Conv2D)           (None, 15, 15, 128)       147584    \n",
            "                                                                 \n",
            " batch_normalization_3 (Batc  (None, 15, 15, 128)      512       \n",
            " hNormalization)                                                 \n",
            "                                                                 \n",
            " max_pooling2d_7 (MaxPooling  (None, 7, 7, 128)        0         \n",
            " 2D)                                                             \n",
            "                                                                 \n",
            " flatten_1 (Flatten)         (None, 6272)              0         \n",
            "                                                                 \n",
            " dense_2 (Dense)             (None, 512)               3211776   \n",
            "                                                                 \n",
            " dense_3 (Dense)             (None, 1)                 513       \n",
            "                                                                 \n",
            "=================================================================\n",
            "Total params: 3,454,529\n",
            "Trainable params: 3,453,825\n",
            "Non-trainable params: 704\n",
            "_________________________________________________________________\n"
          ]
        }
      ],
      "source": [
        "# BatchNormalization layer 추가\n",
        "from keras import layers\n",
        "from keras import models\n",
        "\n",
        "model = models.Sequential()\n",
        "# 입력 특성 맵에 적용할 필터 수 : 32, 윈도우 사이즈, 활성화함수, 입력 데이터 규격 : 150*150, RGB 3채널\n",
        "model.add(layers.Conv2D(32, (3, 3), activation='relu', input_shape=(150, 150, 3)))\n",
        "model.add(tf.keras.layers.BatchNormalization())\n",
        "model.add(layers.MaxPooling2D((2, 2)))  # 최대 풀링 연산 적용할 윈도우 사이즈 - 다운샘플링(크기 축소)\n",
        "model.add(layers.Conv2D(64, (3, 3), activation='relu'))  # 입력 특성 맵에 적용할 필터 수 : 64, 윈도우 사이즈, 활성화 함수\n",
        "model.add(tf.keras.layers.BatchNormalization())\n",
        "model.add(layers.MaxPooling2D((2, 2)))  # 윈도우 사이즈\n",
        "model.add(layers.Conv2D(128, (3, 3), activation='relu'))  # 필터 수 : 128개, 윈도우 사이즈\n",
        "model.add(tf.keras.layers.BatchNormalization())\n",
        "model.add(layers.MaxPooling2D((2, 2)))  # 윈도우 사이즈\n",
        "model.add(layers.Conv2D(128, (3, 3), activation='relu'))  # 필터 수 : 128개, 윈도우 사이즈\n",
        "model.add(tf.keras.layers.BatchNormalization())\n",
        "model.add(layers.MaxPooling2D((2, 2)))  # 윈도우 사이즈\n",
        "# 여기까지 합성곱 기반 층(지역 패턴 추출 층)\n",
        "\n",
        "# 여기서부터 완전 연결 층(전역 패턴 추출, 분류기)\n",
        "model.add(layers.Flatten())  # 1차원 텐서(벡터)로 변환\n",
        "model.add(layers.Dense(512, activation='relu'))  # 512차원 벡터공간에 투영\n",
        "model.add(layers.Dense(1, activation='sigmoid'))\n",
        "\n",
        "model.summary()\n"
      ]
    },
    {
      "cell_type": "code",
      "execution_count": null,
      "metadata": {},
      "outputs": [],
      "source": [
        "# Dropout layer 추가\n",
        "from keras import layers\n",
        "from keras import models\n",
        "\n",
        "dropout_rate = 0.2  # 0.5\n",
        "model = models.Sequential()\n",
        "# 입력 특성 맵에 적용할 필터 수 : 32, 윈도우 사이즈, 활성화함수, 입력 데이터 규격 : 150*150, RGB 3채널\n",
        "model.add(layers.Conv2D(32, (3, 3), activation='relu', input_shape=(150, 150, 3)))\n",
        "model.add(tf.keras.layers.Dropout( rate=dropout_rate))\n",
        "model.add(layers.MaxPooling2D((2, 2)))  # 최대 풀링 연산 적용할 윈도우 사이즈 - 다운샘플링(크기 축소)\n",
        "model.add(layers.Conv2D(64, (3, 3), activation='relu'))  # 입력 특성 맵에 적용할 필터 수 : 64, 윈도우 사이즈, 활성화 함수\n",
        "model.add(tf.keras.layers.Dropout( rate=dropout_rate))\n",
        "model.add(layers.MaxPooling2D((2, 2)))  # 윈도우 사이즈\n",
        "model.add(layers.Conv2D(128, (3, 3), activation='relu'))  # 필터 수 : 128개, 윈도우 사이즈\n",
        "model.add(tf.keras.layers.Dropout( rate=dropout_rate))\n",
        "model.add(layers.MaxPooling2D((2, 2)))  # 윈도우 사이즈\n",
        "model.add(layers.Conv2D(128, (3, 3), activation='relu'))  # 필터 수 : 128개, 윈도우 사이즈\n",
        "model.add(tf.keras.layers.Dropout( rate=dropout_rate))\n",
        "model.add(layers.MaxPooling2D((2, 2)))  # 윈도우 사이즈\n",
        "# 여기까지 합성곱 기반 층(지역 패턴 추출 층)\n",
        "\n",
        "# 여기서부터 완전 연결 층(전역 패턴 추출, 분류기)\n",
        "model.add(layers.Flatten())  # 1차원 텐서(벡터)로 변환\n",
        "model.add(layers.Dense(512, activation='relu'))  # 512차원 벡터공간에 투영\n",
        "model.add(layers.Dense(1, activation='sigmoid'))\n",
        "\n",
        "model.summary()\n"
      ]
    },
    {
      "cell_type": "code",
      "execution_count": 8,
      "metadata": {
        "id": "aHj5e_fH5AqR"
      },
      "outputs": [],
      "source": [
        "# 모델 컴파일\n",
        "from keras import optimizers\n",
        "\n",
        "model.compile(\n",
        "    loss = 'binary_crossentropy',\n",
        "    optimizer = optimizers.adam_v2.Adam(learning_rate=0.001),\n",
        "    metrics=['acc']\n",
        ")"
      ]
    },
    {
      "cell_type": "code",
      "execution_count": 10,
      "metadata": {
        "colab": {
          "base_uri": "https://localhost:8080/",
          "height": 253
        },
        "id": "QXoU66Oo5Xzn",
        "outputId": "5928eace-b06e-47df-a326-a19f4a6b1daa"
      },
      "outputs": [
        {
          "name": "stdout",
          "output_type": "stream",
          "text": [
            "Found 2000 images belonging to 2 classes.\n",
            "Found 1000 images belonging to 2 classes.\n"
          ]
        }
      ],
      "source": [
        "# 데이터 전처리\n",
        "from keras.preprocessing.image import ImageDataGenerator\n",
        "\n",
        "train_datagen = ImageDataGenerator(rescale=1./255)  # 스케일 1/255로 조정, 부동소수점 형태로 변환\n",
        "test_datagen = ImageDataGenerator(rescale=1./255)  # 스케일 조정\n",
        "\n",
        "train_generator = train_datagen.flow_from_directory(\n",
        "    'C:/Users/user/Desktop/cats_and_dogs_small/train',\n",
        "    target_size=(150, 150),  # 네트워크 입력 규격에 맞게 크기 변환\n",
        "    batch_size=20,  # 1에폭 동안 투입할 데이터 묶음\n",
        "    class_mode='binary'  # 데이터가 이진 레이블임\n",
        ")\n",
        "\n",
        "valid_generator = test_datagen.flow_from_directory(\n",
        "    'C:/Users/user/Desktop/cats_and_dogs_small/test',\n",
        "    target_size=(150, 150),\n",
        "    batch_size=20,\n",
        "    class_mode='binary'\n",
        ")"
      ]
    },
    {
      "cell_type": "code",
      "execution_count": 11,
      "metadata": {
        "id": "8kEnY891_jFD"
      },
      "outputs": [
        {
          "name": "stdout",
          "output_type": "stream",
          "text": [
            "Epoch 1/30\n"
          ]
        },
        {
          "name": "stderr",
          "output_type": "stream",
          "text": [
            "C:\\Users\\user\\AppData\\Local\\Temp\\ipykernel_9000\\2097167460.py:2: UserWarning: `Model.fit_generator` is deprecated and will be removed in a future version. Please use `Model.fit`, which supports generators.\n",
            "  history = model.fit_generator(\n"
          ]
        },
        {
          "name": "stdout",
          "output_type": "stream",
          "text": [
            "100/100 [==============================] - 29s 283ms/step - loss: 1.2501 - acc: 0.5975 - val_loss: 1.3271 - val_acc: 0.5000\n",
            "Epoch 2/30\n",
            "100/100 [==============================] - 28s 281ms/step - loss: 0.5817 - acc: 0.7050 - val_loss: 0.9861 - val_acc: 0.5020\n",
            "Epoch 3/30\n",
            "100/100 [==============================] - 31s 306ms/step - loss: 0.4945 - acc: 0.7645 - val_loss: 0.9708 - val_acc: 0.5560\n",
            "Epoch 4/30\n",
            "100/100 [==============================] - 29s 290ms/step - loss: 0.4401 - acc: 0.7925 - val_loss: 0.8696 - val_acc: 0.6280\n",
            "Epoch 5/30\n",
            "100/100 [==============================] - 29s 288ms/step - loss: 0.3329 - acc: 0.8670 - val_loss: 0.9451 - val_acc: 0.6360\n",
            "Epoch 6/30\n",
            "100/100 [==============================] - 28s 284ms/step - loss: 0.1898 - acc: 0.9230 - val_loss: 0.7427 - val_acc: 0.7000\n",
            "Epoch 7/30\n",
            "100/100 [==============================] - 29s 285ms/step - loss: 0.1044 - acc: 0.9615 - val_loss: 1.0247 - val_acc: 0.6990\n",
            "Epoch 8/30\n",
            "100/100 [==============================] - 28s 283ms/step - loss: 0.1212 - acc: 0.9540 - val_loss: 0.9595 - val_acc: 0.6760\n",
            "Epoch 9/30\n",
            "100/100 [==============================] - 29s 288ms/step - loss: 0.1003 - acc: 0.9615 - val_loss: 1.1173 - val_acc: 0.6920\n",
            "Epoch 10/30\n",
            "100/100 [==============================] - 28s 284ms/step - loss: 0.0549 - acc: 0.9825 - val_loss: 0.8983 - val_acc: 0.7320\n",
            "Epoch 11/30\n",
            "100/100 [==============================] - 29s 286ms/step - loss: 0.0317 - acc: 0.9925 - val_loss: 1.0576 - val_acc: 0.7180\n",
            "Epoch 12/30\n",
            "100/100 [==============================] - 28s 283ms/step - loss: 0.0289 - acc: 0.9925 - val_loss: 1.0425 - val_acc: 0.7100\n",
            "Epoch 13/30\n",
            "100/100 [==============================] - 28s 282ms/step - loss: 0.0111 - acc: 0.9970 - val_loss: 1.0359 - val_acc: 0.7240\n",
            "Epoch 14/30\n",
            "100/100 [==============================] - 28s 282ms/step - loss: 0.0162 - acc: 0.9940 - val_loss: 1.1512 - val_acc: 0.7200\n",
            "Epoch 15/30\n",
            "100/100 [==============================] - 28s 283ms/step - loss: 0.0627 - acc: 0.9800 - val_loss: 1.6900 - val_acc: 0.6270\n",
            "Epoch 16/30\n",
            " 65/100 [==================>...........] - ETA: 9s - loss: 0.1476 - acc: 0.9446"
          ]
        },
        {
          "ename": "KeyboardInterrupt",
          "evalue": "",
          "output_type": "error",
          "traceback": [
            "\u001b[1;31m---------------------------------------------------------------------------\u001b[0m",
            "\u001b[1;31mKeyboardInterrupt\u001b[0m                         Traceback (most recent call last)",
            "\u001b[1;32m~\\AppData\\Local\\Temp\\ipykernel_9000\\2097167460.py\u001b[0m in \u001b[0;36m<module>\u001b[1;34m\u001b[0m\n\u001b[0;32m      1\u001b[0m \u001b[1;31m# 모델 훈련\u001b[0m\u001b[1;33m\u001b[0m\u001b[1;33m\u001b[0m\u001b[0m\n\u001b[1;32m----> 2\u001b[1;33m history = model.fit_generator(\n\u001b[0m\u001b[0;32m      3\u001b[0m     \u001b[0mtrain_generator\u001b[0m\u001b[1;33m,\u001b[0m\u001b[1;33m\u001b[0m\u001b[1;33m\u001b[0m\u001b[0m\n\u001b[0;32m      4\u001b[0m     \u001b[0msteps_per_epoch\u001b[0m\u001b[1;33m=\u001b[0m\u001b[1;36m100\u001b[0m\u001b[1;33m,\u001b[0m  \u001b[1;31m# 20*100 = 총 훈련 데이터 갯수\u001b[0m\u001b[1;33m\u001b[0m\u001b[1;33m\u001b[0m\u001b[0m\n\u001b[0;32m      5\u001b[0m     \u001b[0mepochs\u001b[0m \u001b[1;33m=\u001b[0m \u001b[1;36m30\u001b[0m\u001b[1;33m,\u001b[0m\u001b[1;33m\u001b[0m\u001b[1;33m\u001b[0m\u001b[0m\n",
            "\u001b[1;32mc:\\ProgramData\\Anaconda3\\lib\\site-packages\\keras\\engine\\training.py\u001b[0m in \u001b[0;36mfit_generator\u001b[1;34m(self, generator, steps_per_epoch, epochs, verbose, callbacks, validation_data, validation_steps, validation_freq, class_weight, max_queue_size, workers, use_multiprocessing, shuffle, initial_epoch)\u001b[0m\n\u001b[0;32m   2505\u001b[0m             \u001b[0mstacklevel\u001b[0m\u001b[1;33m=\u001b[0m\u001b[1;36m2\u001b[0m\u001b[1;33m,\u001b[0m\u001b[1;33m\u001b[0m\u001b[1;33m\u001b[0m\u001b[0m\n\u001b[0;32m   2506\u001b[0m         )\n\u001b[1;32m-> 2507\u001b[1;33m         return self.fit(\n\u001b[0m\u001b[0;32m   2508\u001b[0m             \u001b[0mgenerator\u001b[0m\u001b[1;33m,\u001b[0m\u001b[1;33m\u001b[0m\u001b[1;33m\u001b[0m\u001b[0m\n\u001b[0;32m   2509\u001b[0m             \u001b[0msteps_per_epoch\u001b[0m\u001b[1;33m=\u001b[0m\u001b[0msteps_per_epoch\u001b[0m\u001b[1;33m,\u001b[0m\u001b[1;33m\u001b[0m\u001b[1;33m\u001b[0m\u001b[0m\n",
            "\u001b[1;32mc:\\ProgramData\\Anaconda3\\lib\\site-packages\\keras\\utils\\traceback_utils.py\u001b[0m in \u001b[0;36merror_handler\u001b[1;34m(*args, **kwargs)\u001b[0m\n\u001b[0;32m     63\u001b[0m         \u001b[0mfiltered_tb\u001b[0m \u001b[1;33m=\u001b[0m \u001b[1;32mNone\u001b[0m\u001b[1;33m\u001b[0m\u001b[1;33m\u001b[0m\u001b[0m\n\u001b[0;32m     64\u001b[0m         \u001b[1;32mtry\u001b[0m\u001b[1;33m:\u001b[0m\u001b[1;33m\u001b[0m\u001b[1;33m\u001b[0m\u001b[0m\n\u001b[1;32m---> 65\u001b[1;33m             \u001b[1;32mreturn\u001b[0m \u001b[0mfn\u001b[0m\u001b[1;33m(\u001b[0m\u001b[1;33m*\u001b[0m\u001b[0margs\u001b[0m\u001b[1;33m,\u001b[0m \u001b[1;33m**\u001b[0m\u001b[0mkwargs\u001b[0m\u001b[1;33m)\u001b[0m\u001b[1;33m\u001b[0m\u001b[1;33m\u001b[0m\u001b[0m\n\u001b[0m\u001b[0;32m     66\u001b[0m         \u001b[1;32mexcept\u001b[0m \u001b[0mException\u001b[0m \u001b[1;32mas\u001b[0m \u001b[0me\u001b[0m\u001b[1;33m:\u001b[0m\u001b[1;33m\u001b[0m\u001b[1;33m\u001b[0m\u001b[0m\n\u001b[0;32m     67\u001b[0m             \u001b[0mfiltered_tb\u001b[0m \u001b[1;33m=\u001b[0m \u001b[0m_process_traceback_frames\u001b[0m\u001b[1;33m(\u001b[0m\u001b[0me\u001b[0m\u001b[1;33m.\u001b[0m\u001b[0m__traceback__\u001b[0m\u001b[1;33m)\u001b[0m\u001b[1;33m\u001b[0m\u001b[1;33m\u001b[0m\u001b[0m\n",
            "\u001b[1;32mc:\\ProgramData\\Anaconda3\\lib\\site-packages\\keras\\engine\\training.py\u001b[0m in \u001b[0;36mfit\u001b[1;34m(self, x, y, batch_size, epochs, verbose, callbacks, validation_split, validation_data, shuffle, class_weight, sample_weight, initial_epoch, steps_per_epoch, validation_steps, validation_batch_size, validation_freq, max_queue_size, workers, use_multiprocessing)\u001b[0m\n\u001b[0;32m   1562\u001b[0m                         ):\n\u001b[0;32m   1563\u001b[0m                             \u001b[0mcallbacks\u001b[0m\u001b[1;33m.\u001b[0m\u001b[0mon_train_batch_begin\u001b[0m\u001b[1;33m(\u001b[0m\u001b[0mstep\u001b[0m\u001b[1;33m)\u001b[0m\u001b[1;33m\u001b[0m\u001b[1;33m\u001b[0m\u001b[0m\n\u001b[1;32m-> 1564\u001b[1;33m                             \u001b[0mtmp_logs\u001b[0m \u001b[1;33m=\u001b[0m \u001b[0mself\u001b[0m\u001b[1;33m.\u001b[0m\u001b[0mtrain_function\u001b[0m\u001b[1;33m(\u001b[0m\u001b[0miterator\u001b[0m\u001b[1;33m)\u001b[0m\u001b[1;33m\u001b[0m\u001b[1;33m\u001b[0m\u001b[0m\n\u001b[0m\u001b[0;32m   1565\u001b[0m                             \u001b[1;32mif\u001b[0m \u001b[0mdata_handler\u001b[0m\u001b[1;33m.\u001b[0m\u001b[0mshould_sync\u001b[0m\u001b[1;33m:\u001b[0m\u001b[1;33m\u001b[0m\u001b[1;33m\u001b[0m\u001b[0m\n\u001b[0;32m   1566\u001b[0m                                 \u001b[0mcontext\u001b[0m\u001b[1;33m.\u001b[0m\u001b[0masync_wait\u001b[0m\u001b[1;33m(\u001b[0m\u001b[1;33m)\u001b[0m\u001b[1;33m\u001b[0m\u001b[1;33m\u001b[0m\u001b[0m\n",
            "\u001b[1;32mc:\\ProgramData\\Anaconda3\\lib\\site-packages\\tensorflow\\python\\util\\traceback_utils.py\u001b[0m in \u001b[0;36merror_handler\u001b[1;34m(*args, **kwargs)\u001b[0m\n\u001b[0;32m    148\u001b[0m     \u001b[0mfiltered_tb\u001b[0m \u001b[1;33m=\u001b[0m \u001b[1;32mNone\u001b[0m\u001b[1;33m\u001b[0m\u001b[1;33m\u001b[0m\u001b[0m\n\u001b[0;32m    149\u001b[0m     \u001b[1;32mtry\u001b[0m\u001b[1;33m:\u001b[0m\u001b[1;33m\u001b[0m\u001b[1;33m\u001b[0m\u001b[0m\n\u001b[1;32m--> 150\u001b[1;33m       \u001b[1;32mreturn\u001b[0m \u001b[0mfn\u001b[0m\u001b[1;33m(\u001b[0m\u001b[1;33m*\u001b[0m\u001b[0margs\u001b[0m\u001b[1;33m,\u001b[0m \u001b[1;33m**\u001b[0m\u001b[0mkwargs\u001b[0m\u001b[1;33m)\u001b[0m\u001b[1;33m\u001b[0m\u001b[1;33m\u001b[0m\u001b[0m\n\u001b[0m\u001b[0;32m    151\u001b[0m     \u001b[1;32mexcept\u001b[0m \u001b[0mException\u001b[0m \u001b[1;32mas\u001b[0m \u001b[0me\u001b[0m\u001b[1;33m:\u001b[0m\u001b[1;33m\u001b[0m\u001b[1;33m\u001b[0m\u001b[0m\n\u001b[0;32m    152\u001b[0m       \u001b[0mfiltered_tb\u001b[0m \u001b[1;33m=\u001b[0m \u001b[0m_process_traceback_frames\u001b[0m\u001b[1;33m(\u001b[0m\u001b[0me\u001b[0m\u001b[1;33m.\u001b[0m\u001b[0m__traceback__\u001b[0m\u001b[1;33m)\u001b[0m\u001b[1;33m\u001b[0m\u001b[1;33m\u001b[0m\u001b[0m\n",
            "\u001b[1;32mc:\\ProgramData\\Anaconda3\\lib\\site-packages\\tensorflow\\python\\eager\\def_function.py\u001b[0m in \u001b[0;36m__call__\u001b[1;34m(self, *args, **kwds)\u001b[0m\n\u001b[0;32m    913\u001b[0m \u001b[1;33m\u001b[0m\u001b[0m\n\u001b[0;32m    914\u001b[0m       \u001b[1;32mwith\u001b[0m \u001b[0mOptionalXlaContext\u001b[0m\u001b[1;33m(\u001b[0m\u001b[0mself\u001b[0m\u001b[1;33m.\u001b[0m\u001b[0m_jit_compile\u001b[0m\u001b[1;33m)\u001b[0m\u001b[1;33m:\u001b[0m\u001b[1;33m\u001b[0m\u001b[1;33m\u001b[0m\u001b[0m\n\u001b[1;32m--> 915\u001b[1;33m         \u001b[0mresult\u001b[0m \u001b[1;33m=\u001b[0m \u001b[0mself\u001b[0m\u001b[1;33m.\u001b[0m\u001b[0m_call\u001b[0m\u001b[1;33m(\u001b[0m\u001b[1;33m*\u001b[0m\u001b[0margs\u001b[0m\u001b[1;33m,\u001b[0m \u001b[1;33m**\u001b[0m\u001b[0mkwds\u001b[0m\u001b[1;33m)\u001b[0m\u001b[1;33m\u001b[0m\u001b[1;33m\u001b[0m\u001b[0m\n\u001b[0m\u001b[0;32m    916\u001b[0m \u001b[1;33m\u001b[0m\u001b[0m\n\u001b[0;32m    917\u001b[0m       \u001b[0mnew_tracing_count\u001b[0m \u001b[1;33m=\u001b[0m \u001b[0mself\u001b[0m\u001b[1;33m.\u001b[0m\u001b[0mexperimental_get_tracing_count\u001b[0m\u001b[1;33m(\u001b[0m\u001b[1;33m)\u001b[0m\u001b[1;33m\u001b[0m\u001b[1;33m\u001b[0m\u001b[0m\n",
            "\u001b[1;32mc:\\ProgramData\\Anaconda3\\lib\\site-packages\\tensorflow\\python\\eager\\def_function.py\u001b[0m in \u001b[0;36m_call\u001b[1;34m(self, *args, **kwds)\u001b[0m\n\u001b[0;32m    945\u001b[0m       \u001b[1;31m# In this case we have created variables on the first call, so we run the\u001b[0m\u001b[1;33m\u001b[0m\u001b[1;33m\u001b[0m\u001b[0m\n\u001b[0;32m    946\u001b[0m       \u001b[1;31m# defunned version which is guaranteed to never create variables.\u001b[0m\u001b[1;33m\u001b[0m\u001b[1;33m\u001b[0m\u001b[0m\n\u001b[1;32m--> 947\u001b[1;33m       \u001b[1;32mreturn\u001b[0m \u001b[0mself\u001b[0m\u001b[1;33m.\u001b[0m\u001b[0m_stateless_fn\u001b[0m\u001b[1;33m(\u001b[0m\u001b[1;33m*\u001b[0m\u001b[0margs\u001b[0m\u001b[1;33m,\u001b[0m \u001b[1;33m**\u001b[0m\u001b[0mkwds\u001b[0m\u001b[1;33m)\u001b[0m  \u001b[1;31m# pylint: disable=not-callable\u001b[0m\u001b[1;33m\u001b[0m\u001b[1;33m\u001b[0m\u001b[0m\n\u001b[0m\u001b[0;32m    948\u001b[0m     \u001b[1;32melif\u001b[0m \u001b[0mself\u001b[0m\u001b[1;33m.\u001b[0m\u001b[0m_stateful_fn\u001b[0m \u001b[1;32mis\u001b[0m \u001b[1;32mnot\u001b[0m \u001b[1;32mNone\u001b[0m\u001b[1;33m:\u001b[0m\u001b[1;33m\u001b[0m\u001b[1;33m\u001b[0m\u001b[0m\n\u001b[0;32m    949\u001b[0m       \u001b[1;31m# Release the lock early so that multiple threads can perform the call\u001b[0m\u001b[1;33m\u001b[0m\u001b[1;33m\u001b[0m\u001b[0m\n",
            "\u001b[1;32mc:\\ProgramData\\Anaconda3\\lib\\site-packages\\tensorflow\\python\\eager\\function.py\u001b[0m in \u001b[0;36m__call__\u001b[1;34m(self, *args, **kwargs)\u001b[0m\n\u001b[0;32m   2494\u001b[0m       (graph_function,\n\u001b[0;32m   2495\u001b[0m        filtered_flat_args) = self._maybe_define_function(args, kwargs)\n\u001b[1;32m-> 2496\u001b[1;33m     return graph_function._call_flat(\n\u001b[0m\u001b[0;32m   2497\u001b[0m         filtered_flat_args, captured_inputs=graph_function.captured_inputs)  # pylint: disable=protected-access\n\u001b[0;32m   2498\u001b[0m \u001b[1;33m\u001b[0m\u001b[0m\n",
            "\u001b[1;32mc:\\ProgramData\\Anaconda3\\lib\\site-packages\\tensorflow\\python\\eager\\function.py\u001b[0m in \u001b[0;36m_call_flat\u001b[1;34m(self, args, captured_inputs, cancellation_manager)\u001b[0m\n\u001b[0;32m   1860\u001b[0m         and executing_eagerly):\n\u001b[0;32m   1861\u001b[0m       \u001b[1;31m# No tape is watching; skip to running the function.\u001b[0m\u001b[1;33m\u001b[0m\u001b[1;33m\u001b[0m\u001b[0m\n\u001b[1;32m-> 1862\u001b[1;33m       return self._build_call_outputs(self._inference_function.call(\n\u001b[0m\u001b[0;32m   1863\u001b[0m           ctx, args, cancellation_manager=cancellation_manager))\n\u001b[0;32m   1864\u001b[0m     forward_backward = self._select_forward_and_backward_functions(\n",
            "\u001b[1;32mc:\\ProgramData\\Anaconda3\\lib\\site-packages\\tensorflow\\python\\eager\\function.py\u001b[0m in \u001b[0;36mcall\u001b[1;34m(self, ctx, args, cancellation_manager)\u001b[0m\n\u001b[0;32m    497\u001b[0m       \u001b[1;32mwith\u001b[0m \u001b[0m_InterpolateFunctionError\u001b[0m\u001b[1;33m(\u001b[0m\u001b[0mself\u001b[0m\u001b[1;33m)\u001b[0m\u001b[1;33m:\u001b[0m\u001b[1;33m\u001b[0m\u001b[1;33m\u001b[0m\u001b[0m\n\u001b[0;32m    498\u001b[0m         \u001b[1;32mif\u001b[0m \u001b[0mcancellation_manager\u001b[0m \u001b[1;32mis\u001b[0m \u001b[1;32mNone\u001b[0m\u001b[1;33m:\u001b[0m\u001b[1;33m\u001b[0m\u001b[1;33m\u001b[0m\u001b[0m\n\u001b[1;32m--> 499\u001b[1;33m           outputs = execute.execute(\n\u001b[0m\u001b[0;32m    500\u001b[0m               \u001b[0mstr\u001b[0m\u001b[1;33m(\u001b[0m\u001b[0mself\u001b[0m\u001b[1;33m.\u001b[0m\u001b[0msignature\u001b[0m\u001b[1;33m.\u001b[0m\u001b[0mname\u001b[0m\u001b[1;33m)\u001b[0m\u001b[1;33m,\u001b[0m\u001b[1;33m\u001b[0m\u001b[1;33m\u001b[0m\u001b[0m\n\u001b[0;32m    501\u001b[0m               \u001b[0mnum_outputs\u001b[0m\u001b[1;33m=\u001b[0m\u001b[0mself\u001b[0m\u001b[1;33m.\u001b[0m\u001b[0m_num_outputs\u001b[0m\u001b[1;33m,\u001b[0m\u001b[1;33m\u001b[0m\u001b[1;33m\u001b[0m\u001b[0m\n",
            "\u001b[1;32mc:\\ProgramData\\Anaconda3\\lib\\site-packages\\tensorflow\\python\\eager\\execute.py\u001b[0m in \u001b[0;36mquick_execute\u001b[1;34m(op_name, num_outputs, inputs, attrs, ctx, name)\u001b[0m\n\u001b[0;32m     52\u001b[0m   \u001b[1;32mtry\u001b[0m\u001b[1;33m:\u001b[0m\u001b[1;33m\u001b[0m\u001b[1;33m\u001b[0m\u001b[0m\n\u001b[0;32m     53\u001b[0m     \u001b[0mctx\u001b[0m\u001b[1;33m.\u001b[0m\u001b[0mensure_initialized\u001b[0m\u001b[1;33m(\u001b[0m\u001b[1;33m)\u001b[0m\u001b[1;33m\u001b[0m\u001b[1;33m\u001b[0m\u001b[0m\n\u001b[1;32m---> 54\u001b[1;33m     tensors = pywrap_tfe.TFE_Py_Execute(ctx._handle, device_name, op_name,\n\u001b[0m\u001b[0;32m     55\u001b[0m                                         inputs, attrs, num_outputs)\n\u001b[0;32m     56\u001b[0m   \u001b[1;32mexcept\u001b[0m \u001b[0mcore\u001b[0m\u001b[1;33m.\u001b[0m\u001b[0m_NotOkStatusException\u001b[0m \u001b[1;32mas\u001b[0m \u001b[0me\u001b[0m\u001b[1;33m:\u001b[0m\u001b[1;33m\u001b[0m\u001b[1;33m\u001b[0m\u001b[0m\n",
            "\u001b[1;31mKeyboardInterrupt\u001b[0m: "
          ]
        }
      ],
      "source": [
        "# 모델 훈련\n",
        "history = model.fit_generator(\n",
        "    train_generator,\n",
        "    steps_per_epoch=100,  # 20*100 = 총 훈련 데이터 갯수\n",
        "    epochs = 30,\n",
        "    validation_data = valid_generator,\n",
        "    validation_steps = 50\n",
        ")"
      ]
    },
    {
      "cell_type": "code",
      "execution_count": 1,
      "metadata": {
        "id": "j_HIEr7__kXL"
      },
      "outputs": [
        {
          "ename": "NameError",
          "evalue": "name 'history' is not defined",
          "output_type": "error",
          "traceback": [
            "\u001b[1;31m---------------------------------------------------------------------------\u001b[0m",
            "\u001b[1;31mNameError\u001b[0m                                 Traceback (most recent call last)",
            "\u001b[1;32m~\\AppData\\Local\\Temp\\ipykernel_9000\\2769910028.py\u001b[0m in \u001b[0;36m<module>\u001b[1;34m\u001b[0m\n\u001b[0;32m      2\u001b[0m \u001b[1;32mimport\u001b[0m \u001b[0mmatplotlib\u001b[0m\u001b[1;33m.\u001b[0m\u001b[0mpyplot\u001b[0m \u001b[1;32mas\u001b[0m \u001b[0mplt\u001b[0m\u001b[1;33m\u001b[0m\u001b[1;33m\u001b[0m\u001b[0m\n\u001b[0;32m      3\u001b[0m \u001b[1;33m\u001b[0m\u001b[0m\n\u001b[1;32m----> 4\u001b[1;33m \u001b[0macc\u001b[0m \u001b[1;33m=\u001b[0m \u001b[0mhistory\u001b[0m\u001b[1;33m.\u001b[0m\u001b[0mhistory\u001b[0m\u001b[1;33m[\u001b[0m\u001b[1;34m'acc'\u001b[0m\u001b[1;33m]\u001b[0m\u001b[1;33m\u001b[0m\u001b[1;33m\u001b[0m\u001b[0m\n\u001b[0m\u001b[0;32m      5\u001b[0m \u001b[0mval_acc\u001b[0m \u001b[1;33m=\u001b[0m \u001b[0mhistory\u001b[0m\u001b[1;33m.\u001b[0m\u001b[0mhistory\u001b[0m\u001b[1;33m[\u001b[0m\u001b[1;34m'val_acc'\u001b[0m\u001b[1;33m]\u001b[0m\u001b[1;33m\u001b[0m\u001b[1;33m\u001b[0m\u001b[0m\n\u001b[0;32m      6\u001b[0m \u001b[0mloss\u001b[0m \u001b[1;33m=\u001b[0m \u001b[0mhistory\u001b[0m\u001b[1;33m.\u001b[0m\u001b[0mhistory\u001b[0m\u001b[1;33m[\u001b[0m\u001b[1;34m'loss'\u001b[0m\u001b[1;33m]\u001b[0m\u001b[1;33m\u001b[0m\u001b[1;33m\u001b[0m\u001b[0m\n",
            "\u001b[1;31mNameError\u001b[0m: name 'history' is not defined"
          ]
        }
      ],
      "source": [
        "# 훈련 및 검증 정확도, 훈련 및 검증 손실 시각화\n",
        "import matplotlib.pyplot as plt\n",
        "\n",
        "acc = history.history['acc']\n",
        "val_acc = history.history['val_acc']\n",
        "loss = history.history['loss']\n",
        "val_loss = history.history['val_loss']\n",
        "\n",
        "epochs = range(1, len(acc) + 1)\n",
        "\n",
        "plt.figure(figsize=(10,5))\n",
        "\n",
        "plt.subplot(1, 2, 1)\n",
        "plt.plot(epochs, acc, 'bo', label='Training Accuracy')\n",
        "plt.plot(epochs, val_acc, 'r', label='Validation Accuracy')\n",
        "plt.title('Training and Validation Accuracy')\n",
        "plt.legend()\n",
        "\n",
        "plt.subplot(1, 2, 2)\n",
        "plt.plot(epochs, loss, 'bo', label='Training Accuracy')\n",
        "plt.plot(epochs, val_acc, 'r', label='Validation Accuracy')\n",
        "plt.title('Training and Validation Accuracy')\n",
        "plt.legend()\n",
        "\n",
        "plt.suptitle('Accuracy & Loss')\n",
        "plt.tight_layout()\n",
        "\n",
        "plt.show()"
      ]
    }
  ],
  "metadata": {
    "colab": {
      "provenance": []
    },
    "kernelspec": {
      "display_name": "base",
      "language": "python",
      "name": "python3"
    },
    "language_info": {
      "codemirror_mode": {
        "name": "ipython",
        "version": 3
      },
      "file_extension": ".py",
      "mimetype": "text/x-python",
      "name": "python",
      "nbconvert_exporter": "python",
      "pygments_lexer": "ipython3",
      "version": "3.9.13"
    },
    "vscode": {
      "interpreter": {
        "hash": "ad2bdc8ecc057115af97d19610ffacc2b4e99fae6737bb82f5d7fb13d2f2c186"
      }
    }
  },
  "nbformat": 4,
  "nbformat_minor": 0
}
