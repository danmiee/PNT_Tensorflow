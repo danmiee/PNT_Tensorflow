{
  "cells": [
    {
      "cell_type": "markdown",
      "metadata": {
        "id": "Gzp1deec-VZz"
      },
      "source": [
        "# 함수형 API"
      ]
    },
    {
      "cell_type": "markdown",
      "metadata": {
        "id": "BfuP-AYi-YDg"
      },
      "source": [
        "함수형 API: 함수 형태로 모델을 구축하는, 모델 구축 방법\n",
        "\n",
        "- 층을 생성하고, 각 층의 입력과 출력 관계를 함수처럼 지정하고,\n",
        "- 마지막에 Model() 에서 전체 모델의 입력층(inputs)과 출력층(outputs)의 인수를 설정해서 모델을 생성한다.\n",
        "- 모델의 환경설정, 학습, 예측, 평가는 Sequential() 모델과 같이 model.compile(), model.fit(),model.predict(), model.evaluate()를 사용한다.\n",
        "- 각 층을 생성하고, 생성된 층에 대해 input과 output이 함수처럼 지정 된 것을 볼 수 있다."
      ]
    },
    {
      "cell_type": "markdown",
      "metadata": {
        "id": "0wi1SuskCbIn"
      },
      "source": [
        "## Permute, Reshape, UpSampling1D, UpSampling2D"
      ]
    },
    {
      "cell_type": "code",
      "execution_count": 1,
      "metadata": {
        "id": "8JemA1qZ5ZOR"
      },
      "outputs": [],
      "source": [
        "import tensorflow as tf\n",
        "import numpy as np\n",
        "\n",
        "#1:\n",
        "# gpus = tf.config.experimental.list_physical_devices('GPU')\n",
        "# tf.config.experimental.set_memory_growth(gpus[0], True)"
      ]
    },
    {
      "cell_type": "code",
      "execution_count": 2,
      "metadata": {
        "colab": {
          "base_uri": "https://localhost:8080/"
        },
        "id": "LpTP_HGF7SZs",
        "outputId": "3631db11-168a-438d-9ac5-a0d2c208fbe2"
      },
      "outputs": [
        {
          "name": "stdout",
          "output_type": "stream",
          "text": [
            "[[1. 2. 3. 4.]\n",
            " [5. 6. 7. 8.]]\n"
          ]
        }
      ],
      "source": [
        "#2: create 2D input data\n",
        "A = np.array([[1, 2, 3, 4],\n",
        "              [5, 6, 7, 8]], dtype='float32')\n",
        "print(A)"
      ]
    },
    {
      "cell_type": "code",
      "execution_count": 3,
      "metadata": {
        "colab": {
          "base_uri": "https://localhost:8080/"
        },
        "id": "MGbgm-oE7WwP",
        "outputId": "e061a763-6aca-43e8-b2e3-237ad8740c54"
      },
      "outputs": [
        {
          "name": "stdout",
          "output_type": "stream",
          "text": [
            "[[[[1.]\n",
            "   [2.]\n",
            "   [3.]\n",
            "   [4.]]\n",
            "\n",
            "  [[5.]\n",
            "   [6.]\n",
            "   [7.]\n",
            "   [8.]]]]\n",
            "(2, 4, 1)\n"
          ]
        }
      ],
      "source": [
        "#2-1: np array reshape\n",
        "A = A.reshape(1, 2, 4, 1)  # (batch, rows, cols, channels)\n",
        "print(A)\n",
        "shape = A.shape[1:]\n",
        "print(shape)"
      ]
    },
    {
      "cell_type": "markdown",
      "metadata": {
        "id": "Hxj2wYBcCrF4"
      },
      "source": [
        "### Permute, Reshape"
      ]
    },
    {
      "cell_type": "code",
      "execution_count": 4,
      "metadata": {
        "colab": {
          "base_uri": "https://localhost:8080/"
        },
        "id": "osc9BXJO7nIf",
        "outputId": "1bdbe79a-5a90-4106-c068-b1d3f14566d9"
      },
      "outputs": [
        {
          "name": "stdout",
          "output_type": "stream",
          "text": [
            "Model: \"model\"\n",
            "__________________________________________________________________________________________________\n",
            " Layer (type)                   Output Shape         Param #     Connected to                     \n",
            "==================================================================================================\n",
            " input_1 (InputLayer)           [(None, 2, 4, 1)]    0           []                               \n",
            "                                                                                                  \n",
            " reshape (Reshape)              (None, 4, 2, 1)      0           ['input_1[0][0]']                \n",
            "                                                                                                  \n",
            " permute (Permute)              (None, 4, 2, 1)      0           ['input_1[0][0]']                \n",
            "                                                                                                  \n",
            "==================================================================================================\n",
            "Total params: 0\n",
            "Trainable params: 0\n",
            "Non-trainable params: 0\n",
            "__________________________________________________________________________________________________\n",
            "1/1 [==============================] - 0s 144ms/step\n",
            "A[0,:,:,0]= [[[1.]\n",
            "  [5.]]]\n",
            "output[0]= [[1. 2.]\n",
            " [3. 4.]\n",
            " [5. 6.]\n",
            " [7. 8.]]\n",
            "output[1]= [[1. 5.]\n",
            " [2. 6.]\n",
            " [3. 7.]\n",
            " [4. 8.]]\n"
          ]
        }
      ],
      "source": [
        "#3: build a model - Reshape, Permute\n",
        "x = tf.keras.layers.Input(shape=A.shape[1:])\n",
        "y = tf.keras.layers.Reshape([4, 2, 1])(x)  # 텐서의 형상 변경 (1, 4, 2, 1)\n",
        "z = tf.keras.layers.Permute([2, 1, 3])(x)  # 텐서의 축 순서 변경\n",
        "\n",
        "model = tf.keras.Model(inputs=x, outputs=[y, z])\n",
        "model.summary()\n",
        "\n",
        "#4: apply A to model\n",
        "# output = model(A)\n",
        "output = model.predict(A)\n",
        "\n",
        "print('A[0,:,:,0]=', A[0:,:,0])\n",
        "print('output[0]=', output[0][0,:,:,0])  # y\n",
        "print('output[1]=', output[1][0,:,:,0])  # z"
      ]
    },
    {
      "cell_type": "markdown",
      "metadata": {
        "id": "gIjrAiJwCvd5"
      },
      "source": [
        "### UpSampling1D, UpSampling2D"
      ]
    },
    {
      "cell_type": "code",
      "execution_count": 5,
      "metadata": {
        "colab": {
          "base_uri": "https://localhost:8080/"
        },
        "id": "HV2f-7FG9Dcl",
        "outputId": "a3647e04-3d90-45d8-b70b-f87a3c2edc89"
      },
      "outputs": [
        {
          "name": "stdout",
          "output_type": "stream",
          "text": [
            "Model: \"model_1\"\n",
            "__________________________________________________________________________________________________\n",
            " Layer (type)                   Output Shape         Param #     Connected to                     \n",
            "==================================================================================================\n",
            " input_2 (InputLayer)           [(None, 2, 4, 1)]    0           []                               \n",
            "                                                                                                  \n",
            " reshape_1 (Reshape)            (None, 8, 1)         0           ['input_2[0][0]']                \n",
            "                                                                                                  \n",
            " up_sampling2d (UpSampling2D)   (None, 4, 8, 1)      0           ['input_2[0][0]']                \n",
            "                                                                                                  \n",
            " up_sampling1d (UpSampling1D)   (None, 16, 1)        0           ['reshape_1[0][0]']              \n",
            "                                                                                                  \n",
            "==================================================================================================\n",
            "Total params: 0\n",
            "Trainable params: 0\n",
            "Non-trainable params: 0\n",
            "__________________________________________________________________________________________________\n",
            "1/1 [==============================] - 0s 40ms/step\n",
            "A[0,:,:,0]= [[[1.]\n",
            "  [5.]]]\n",
            "output[0]= [[1. 1. 2. 2. 3. 3. 4. 4.]\n",
            " [1. 1. 2. 2. 3. 3. 4. 4.]\n",
            " [5. 5. 6. 6. 7. 7. 8. 8.]\n",
            " [5. 5. 6. 6. 7. 7. 8. 8.]]\n",
            "output[1]= [1. 1. 2. 2. 3. 3. 4. 4. 5. 5. 6. 6. 7. 7. 8. 8.]\n"
          ]
        }
      ],
      "source": [
        "#3-2: build a model - UpSamkpling\n",
        "x = tf.keras.layers.Input(shape=A.shape[1:])\n",
        "y = tf.keras.layers.UpSampling2D()(x)  # size = (2, 2), [None, 4, 8, 1]\n",
        "## row 방향으로 텐서 2배 확대, col 방향으로 텐서 2배 확대\n",
        "\n",
        "u = tf.keras.layers.Reshape([8, 1])(x)\n",
        "z = tf.keras.layers.UpSampling1D()(u)  # size = 2, [None, 16, 1]\n",
        "## col 방향으로 텐서 2배 확대\n",
        "\n",
        "model = tf.keras.Model(inputs=x, outputs=[y, z])\n",
        "model.summary()\n",
        "\n",
        "#4: apply A to model\n",
        "# output = model(A)\n",
        "output = model.predict(A)\n",
        "\n",
        "print('A[0,:,:,0]=', A[0:,:,0])\n",
        "print('output[0]=', output[0][0,:,:,0])  # y\n",
        "print('output[1]=', output[1][0,:,0])    # z"
      ]
    },
    {
      "cell_type": "markdown",
      "metadata": {
        "id": "6I4AjN6cCxEW"
      },
      "source": [
        "## merge 연산"
      ]
    },
    {
      "cell_type": "code",
      "execution_count": 6,
      "metadata": {
        "id": "ii8nuH4_MMQw"
      },
      "outputs": [],
      "source": [
        "import tensorflow as tf\n",
        "import numpy as np\n",
        "\n",
        "#1:\n",
        "# gpus = tf.config.experimental.list_physical_devices('GPU')\n",
        "# tf.config.experimental.set_memory_growth(gpus[0], True)"
      ]
    },
    {
      "cell_type": "markdown",
      "metadata": {
        "id": "bKQcxEGoC0-A"
      },
      "source": [
        "### 1D merge 연산"
      ]
    },
    {
      "cell_type": "code",
      "execution_count": 7,
      "metadata": {
        "id": "QTC8_Iqs8LYG"
      },
      "outputs": [],
      "source": [
        "#2: 1D inut data: A, B\n",
        "A = np.array([1, 2, 3, 4, 5]).astype('float32')\n",
        "B = np.array([1, 2, 3, 4, 5, 6, 7, 8]).astype('float32')\n",
        "\n",
        "# np.reshape(array, (batch, steps, channels))\n",
        "## steps=-1, channels=정수 : 정수만큼의 col이 생기도록 자동 구조화\n",
        "## steps=정수, channels=-1 : 정수만큼의 row가 \n",
        "A = np.reshape(A, (1, -1, 1))  # A가 1개 col만 갖도록 변환\n",
        "B = np.reshape(B, (1, -1, 1))  # B가 1개 col만 갖도록 변환"
      ]
    },
    {
      "cell_type": "code",
      "execution_count": 8,
      "metadata": {
        "colab": {
          "base_uri": "https://localhost:8080/"
        },
        "id": "oPJrMP3hDJff",
        "outputId": "5af4e3e8-8ed1-46e6-aec8-45d112d3bde7"
      },
      "outputs": [
        {
          "name": "stdout",
          "output_type": "stream",
          "text": [
            "model.output_shapes= [(None, 4, 1), (None, 4, 1), (None, 4, 1), (None, 4, 2), (None, 1, 1), (None, 4, 4)]\n",
            "1/1 [==============================] - 0s 49ms/step\n",
            "output[0]=[[[2.]\n",
            "  [4.]\n",
            "  [0.]\n",
            "  [0.]]]\n",
            "output[1]=[[[2.]\n",
            "  [4.]\n",
            "  [6.]\n",
            "  [8.]]]\n",
            "output[2]=[[[4.]\n",
            "  [8.]\n",
            "  [6.]\n",
            "  [8.]]]\n",
            "output[3]=[[[2. 2.]\n",
            "  [4. 4.]\n",
            "  [0. 6.]\n",
            "  [0. 8.]]]\n",
            "output[4]=[[[20.]]]\n",
            "output[5]=[[[ 4.  8. 12. 16.]\n",
            "  [ 8. 16. 24. 32.]\n",
            "  [ 0.  0.  0.  0.]\n",
            "  [ 0.  0.  0.  0.]]]\n"
          ]
        }
      ],
      "source": [
        "#3: build a model\n",
        "input_x = tf.keras.layers.Input(shape=A.shape[1:])\n",
        "input_y = tf.keras.layers.Input(shape=B.shape[1:])\n",
        "\n",
        "# 최대풀링 저장\n",
        "x = tf.keras.layers.MaxPool1D()(input_x)\n",
        "y = tf.keras.layers.MaxPool1D()(input_y)\n",
        "\n",
        "# 패딩 길이 차이를 저장\n",
        "pad = y.shape[1] - x.shape[1]  # 2\n",
        "# x모양을 y와 일치 시키기\n",
        "x = tf.keras.layers.ZeroPadding1D(padding=(0, pad))(x)\n",
        "\n",
        "out2 = tf.keras.layers.Add()([x, y])\n",
        "# out2 = tf.keras.layers.Subtract()([x, y])\n",
        "# out2 = tf.keras.layers.Multiply()([x, y])\n",
        "# out2 = tf.keras.layers.Minimum()([x, y])\n",
        "# out2 = tf.keras.layers.Maximum()([x, y])\n",
        "# out2 = tf.keras.layers.Average()([x, y])\n",
        "out3 = tf.keras.layers.Concatenate()([x, y])     # 분리된 맵 x, y를 연결\n",
        "out4 = tf.keras.layers.Dot(axes=[1, 1])([x, y])  # inner product(내적) : 서로 같은 위치에 있는 원소의 곱을 더함\n",
        "out5 = tf.keras.layers.Dot(axes=-1)([x, y])      # outer product(외적) : 원소의 곱을 모두 나열\n",
        "\n",
        "out_list = [x, y, out2, out3, out4, out5]\n",
        "model = tf.keras.Model(inputs=[input_x, input_y], outputs=out_list)\n",
        "##model.summary()\n",
        "print(\"model.output_shapes=\", model.output_shape)\n",
        "\n",
        "#4: apply [A, B] to model\n",
        "##output = model([A, B])\n",
        "output = model.predict([A, B])\n",
        "for i in range(len(output)):\n",
        "  print(\"output[{}]={}\".format(i, output[i]))"
      ]
    },
    {
      "cell_type": "markdown",
      "metadata": {
        "id": "mfe59PEOIaEf"
      },
      "source": [
        "### 2D merge 연산"
      ]
    },
    {
      "cell_type": "code",
      "execution_count": 10,
      "metadata": {
        "colab": {
          "base_uri": "https://localhost:8080/"
        },
        "id": "kjUUgagNDi4e",
        "outputId": "b7c3582b-78f1-438f-995f-cbaad0461704"
      },
      "outputs": [
        {
          "name": "stdout",
          "output_type": "stream",
          "text": [
            "A= [[[[1.]\n",
            "   [2.]]\n",
            "\n",
            "  [[3.]\n",
            "   [4.]]]]\n",
            "B= [[[[5.]\n",
            "   [6.]]\n",
            "\n",
            "  [[7.]\n",
            "   [8.]]]]\n",
            "C= [[[[1.]]\n",
            "\n",
            "  [[2.]]\n",
            "\n",
            "  [[3.]]]]\n"
          ]
        }
      ],
      "source": [
        "#2: 2D inut data: A, B\n",
        "A = np.array([[1, 2],\n",
        "            [3, 4]], dtype='float32')\n",
        "A = np.reshape(A, (-1, 2, 2, 1))\n",
        "\n",
        "B = np.array([[5, 6], \n",
        "            [7, 8]], dtype='float32')\n",
        "B = np.reshape(B, (-1, 2, 2, 1))\n",
        "\n",
        "C = np.array([1, 2, 3]).astype('float32')\n",
        "C = C.reshape(-1, 3, 1, 1)\n",
        "\n",
        "print('A=', A)\n",
        "print('B=', B)\n",
        "print('C=', C)"
      ]
    },
    {
      "cell_type": "code",
      "execution_count": 11,
      "metadata": {
        "colab": {
          "base_uri": "https://localhost:8080/"
        },
        "id": "IcmONWiRJhL5",
        "outputId": "6c2cd55b-9c82-4906-b36f-0b4b8ad821b1"
      },
      "outputs": [
        {
          "name": "stdout",
          "output_type": "stream",
          "text": [
            "model.output_shapes= [(None, 2, 2, 1), (None, 2, 2, 1), (None, 3, 1, 1), (None, 2, 2, 1), (None, 2, 2, 2), (None, 2, 2, 2, 2), (None, 2, 2, 2, 2)]\n",
            "1/1 [==============================] - 0s 98ms/step\n",
            "output[0]=[[[[1.]\n",
            "   [2.]]\n",
            "\n",
            "  [[3.]\n",
            "   [4.]]]]\n",
            "output[1]=[[[[5.]\n",
            "   [6.]]\n",
            "\n",
            "  [[7.]\n",
            "   [8.]]]]\n",
            "output[2]=[[[[1.]]\n",
            "\n",
            "  [[2.]]\n",
            "\n",
            "  [[3.]]]]\n",
            "output[3]=[[[[ 6.]\n",
            "   [ 8.]]\n",
            "\n",
            "  [[10.]\n",
            "   [12.]]]]\n",
            "output[4]=[[[[1. 5.]\n",
            "   [2. 6.]]\n",
            "\n",
            "  [[3. 7.]\n",
            "   [4. 8.]]]]\n",
            "output[5]=[[[[[ 5.  6.]\n",
            "    [ 7.  8.]]\n",
            "\n",
            "   [[10. 12.]\n",
            "    [14. 16.]]]\n",
            "\n",
            "\n",
            "  [[[15. 18.]\n",
            "    [21. 24.]]\n",
            "\n",
            "   [[20. 24.]\n",
            "    [28. 32.]]]]]\n",
            "output[6]=[[[[[ 5.  6.]\n",
            "    [ 7.  8.]]\n",
            "\n",
            "   [[10. 12.]\n",
            "    [14. 16.]]]\n",
            "\n",
            "\n",
            "  [[[15. 18.]\n",
            "    [21. 24.]]\n",
            "\n",
            "   [[20. 24.]\n",
            "    [28. 32.]]]]]\n"
          ]
        }
      ],
      "source": [
        "#3: build a model\n",
        "x = tf.keras.layers.Input(shape=A.shape[1:])\n",
        "y = tf.keras.layers.Input(shape=B.shape[1:])\n",
        "z = tf.keras.layers.Input(shape=C.shape[1:])\n",
        "\n",
        "out2 = tf.keras.layers.Add()([x, y])\n",
        "# out2 = tf.keras.layers.Subtract()([x, y])\n",
        "# out2 = tf.keras.layers.Multiply()([x, y])\n",
        "# out2 = tf.keras.layers.Minimum()([x, y])\n",
        "# out2 = tf.keras.layers.Maximum()([x, y])\n",
        "# out2 = tf.keras.layers.Average()([x, y])\n",
        "out3 = tf.keras.layers.Concatenate()([x, y])\n",
        "out4 = tf.keras.layers.Dot(axes=-1)([x, y])\n",
        "out5 = tf.keras.layers.Dot(axes=-1)([x, y])\n",
        "\n",
        "out_list = [x, y, z, out2, out3, out4, out5]\n",
        "model = tf.keras.Model(inputs=[x, y, z], outputs=out_list)\n",
        "##model.summary()\n",
        "print(\"model.output_shapes=\", model.output_shape)\n",
        "\n",
        "#4: apply [A, B] to model\n",
        "##output = model([A, B, C])\n",
        "output = model.predict([A, B, C])\n",
        "for i in range(len(output)):\n",
        "  print(\"output[{}]={}\".format(i, output[i]))"
      ]
    },
    {
      "cell_type": "markdown",
      "metadata": {
        "id": "pvKZZT34Kt58"
      },
      "source": [
        "## AND, OR, XOR 문제 해결하기"
      ]
    },
    {
      "cell_type": "code",
      "execution_count": 20,
      "metadata": {
        "id": "BCxCtelwLSXA"
      },
      "outputs": [],
      "source": [
        "import tensorflow as tf\n",
        "from tensorflow.keras.layers import Input, Dense\n",
        "import numpy as np\n",
        "import matplotlib.pyplot as plt\n",
        "\n",
        "#1: ref [step37_01], [그림 2.9]\n",
        "# gpus = tf.config.experimental.list_physical_devices('GPU')\n",
        "# tf.config.experimental.set_memory_growth(gpus[0], True)"
      ]
    },
    {
      "cell_type": "markdown",
      "metadata": {
        "id": "lRtS4X5ALJnw"
      },
      "source": [
        "### AND, OR (1 Dense; 1개 퍼셉트론) 문제 해결하기"
      ]
    },
    {
      "cell_type": "code",
      "execution_count": 27,
      "metadata": {
        "id": "dC2uugRhKzjp"
      },
      "outputs": [],
      "source": [
        "#2\n",
        "X = np.array([[0, 0],\n",
        "            [0, 1],\n",
        "            [1, 0],\n",
        "            [1, 1]], dtype=np.float32)\n",
        "y_and = np.array([[0], [0], [0], [1]], dtype=np.float32)\n",
        "y_or = np.array([[0], [1], [1], [1]], dtype=np.float32)"
      ]
    },
    {
      "cell_type": "code",
      "execution_count": 28,
      "metadata": {
        "colab": {
          "base_uri": "https://localhost:8080/"
        },
        "id": "js5BlC4nM1CX",
        "outputId": "5d0f48d3-f555-4996-f702-eb0ff16dd0ec"
      },
      "outputs": [
        {
          "name": "stdout",
          "output_type": "stream",
          "text": [
            "Model: \"model_7\"\n",
            "__________________________________________________________________________________________________\n",
            " Layer (type)                   Output Shape         Param #     Connected to                     \n",
            "==================================================================================================\n",
            " input_14 (InputLayer)          [(None, 2)]          0           []                               \n",
            "                                                                                                  \n",
            " input_15 (InputLayer)          [(None, 2)]          0           []                               \n",
            "                                                                                                  \n",
            " and (Dense)                    (None, 1)            3           ['input_14[0][0]']               \n",
            "                                                                                                  \n",
            " or (Dense)                     (None, 1)            3           ['input_15[0][0]']               \n",
            "                                                                                                  \n",
            "==================================================================================================\n",
            "Total params: 6\n",
            "Trainable params: 6\n",
            "Non-trainable params: 0\n",
            "__________________________________________________________________________________________________\n"
          ]
        }
      ],
      "source": [
        "#3: build a model\n",
        "x_and = Input(shape = (2,))\n",
        "out_and = Dense(units = 1, activation = 'sigmoid', name = 'and')(x_and)\n",
        "\n",
        "x_or = Input(shape = (2,))\n",
        "out_or = Dense(units = 1, activation = 'sigmoid', name = 'or')(x_or)\n",
        "\n",
        "model = tf.keras.Model(inputs = [x_and, x_or], outputs = [out_and, out_or])\n",
        "model.summary()"
      ]
    },
    {
      "cell_type": "code",
      "execution_count": 29,
      "metadata": {
        "colab": {
          "base_uri": "https://localhost:8080/"
        },
        "id": "l5dttj6SNM4O",
        "outputId": "eb2b9f85-5e37-4112-d3dc-90b4140e3f0e"
      },
      "outputs": [
        {
          "name": "stdout",
          "output_type": "stream",
          "text": [
            "WARNING:tensorflow:5 out of the last 5 calls to <function Model.make_test_function.<locals>.test_function at 0x00000255D9F42EE0> triggered tf.function retracing. Tracing is expensive and the excessive number of tracings could be due to (1) creating @tf.function repeatedly in a loop, (2) passing tensors with different shapes, (3) passing Python objects instead of tensors. For (1), please define your @tf.function outside of the loop. For (2), @tf.function has reduce_retracing=True option that can avoid unnecessary retracing. For (3), please refer to https://www.tensorflow.org/guide/function#controlling_retracing and https://www.tensorflow.org/api_docs/python/tf/function for  more details.\n",
            "total loss = 0.006911134347319603\n",
            "AND: loss=0.005227145738899708, acc=1.0\n",
            "OR: loss=0.0016839883755892515, acc=1.0\n"
          ]
        }
      ],
      "source": [
        "#4: train and evaluate\n",
        "opt = tf.keras.optimizers.RMSprop(learning_rate = 0.1)\n",
        "model.compile(optimizer = opt, loss = 'mse', metrics = ['accuracy'])\n",
        "ret = model.fit(x = [X, X], y = [y_and, y_or],\n",
        "                epochs=100, batch_size=4, verbose=0)\n",
        "test = model.evaluate(x = [X, X], y = [y_and, y_or], verbose = 0)\n",
        "print('total loss =', test[0])\n",
        "print('AND: loss={}, acc={}'.format(test[1], test[3]))\n",
        "print('OR: loss={}, acc={}'.format(test[2], test[4]))"
      ]
    },
    {
      "cell_type": "code",
      "execution_count": 30,
      "metadata": {
        "colab": {
          "base_uri": "https://localhost:8080/",
          "height": 279
        },
        "id": "FgZksS4-N0nv",
        "outputId": "579d7a74-419b-456d-8985-a4871204c95a"
      },
      "outputs": [
        {
          "data": {
            "image/png": "[encoded data removed]",
            "text/plain": [
              "<Figure size 640x480 with 1 Axes>"
            ]
          },
          "metadata": {},
          "output_type": "display_data"
        }
      ],
      "source": [
        "#5: draw graph\n",
        "plt.plot(ret.history['loss'], 'r--', label='loss')\n",
        "plt.plot(ret.history['and_loss'], 'g--', label='and_loss')\n",
        "plt.plot(ret.history['or_loss'], 'b--', label='or_loss')\n",
        "plt.plot(ret.history['and_accuracy'], 'g-', label='and_accuracy')\n",
        "plt.plot(ret.history['or_accuracy'], 'b-', label='or_accuracy')\n",
        "plt.xlabel('epochs')\n",
        "plt.ylabel('loss and accuracy')\n",
        "plt.legend(loc = 'best')\n",
        "plt.show()"
      ]
    },
    {
      "cell_type": "markdown",
      "metadata": {
        "id": "pv6vTIxSOZSf"
      },
      "source": [
        "### AND, OR, XOR (2Dense: 다층 퍼셉트론 사용) 문제 해결하기"
      ]
    },
    {
      "cell_type": "code",
      "execution_count": 31,
      "metadata": {
        "id": "LxNnxztAOf5o"
      },
      "outputs": [],
      "source": [
        "#2\n",
        "X = np.array([[0, 0],\n",
        "            [0, 1],\n",
        "            [1, 0],\n",
        "            [1, 1]], dtype=np.float32)\n",
        "y_and = np.array([[0], [0], [0], [1]], dtype=np.float32)\n",
        "y_or = np.array([[0], [1], [1], [1]], dtype=np.float32)\n",
        "y_xor = np.array([[0], [1], [1], [0]], dtype=np.float32)\n",
        "\n",
        "y_and = tf.keras.utils.to_categorical(y_and)\n",
        "y_or = tf.keras.utils.to_categorical(y_or)\n",
        "y_xor = tf.keras.utils.to_categorical(y_xor)"
      ]
    },
    {
      "cell_type": "code",
      "execution_count": 32,
      "metadata": {
        "colab": {
          "base_uri": "https://localhost:8080/"
        },
        "id": "45T1zwGWO2NG",
        "outputId": "49e8596d-fcb1-448f-c2a1-bd68084e2c89"
      },
      "outputs": [
        {
          "name": "stdout",
          "output_type": "stream",
          "text": [
            "Model: \"model_8\"\n",
            "__________________________________________________________________________________________________\n",
            " Layer (type)                   Output Shape         Param #     Connected to                     \n",
            "==================================================================================================\n",
            " input_16 (InputLayer)          [(None, 2)]          0           []                               \n",
            "                                                                                                  \n",
            " input_17 (InputLayer)          [(None, 2)]          0           []                               \n",
            "                                                                                                  \n",
            " input_18 (InputLayer)          [(None, 2)]          0           []                               \n",
            "                                                                                                  \n",
            " dense (Dense)                  (None, 2)            6           ['input_16[0][0]']               \n",
            "                                                                                                  \n",
            " dense_1 (Dense)                (None, 2)            6           ['input_17[0][0]']               \n",
            "                                                                                                  \n",
            " dense_2 (Dense)                (None, 2)            6           ['input_18[0][0]']               \n",
            "                                                                                                  \n",
            " and (Dense)                    (None, 2)            6           ['dense[0][0]']                  \n",
            "                                                                                                  \n",
            " or (Dense)                     (None, 2)            6           ['dense_1[0][0]']                \n",
            "                                                                                                  \n",
            " xor (Dense)                    (None, 2)            6           ['dense_2[0][0]']                \n",
            "                                                                                                  \n",
            "==================================================================================================\n",
            "Total params: 36\n",
            "Trainable params: 36\n",
            "Non-trainable params: 0\n",
            "__________________________________________________________________________________________________\n"
          ]
        }
      ],
      "source": [
        "#3: build a model\n",
        "x_and = Input(shape = (2,))\n",
        "x = Dense(units = 2, activation = 'sigmoid')(x_and)\n",
        "out_and = Dense(units = 2, activation = 'softmax', name = 'and')(x)\n",
        "\n",
        "x_or = Input(shape = (2,))\n",
        "x = Dense(units = 2, activation = 'sigmoid')(x_or)\n",
        "out_or = Dense(units = 2, activation = 'softmax', name = 'or')(x)\n",
        "\n",
        "x_xor = Input(shape = (2,))\n",
        "x = Dense(units = 2, activation = 'sigmoid')(x_xor)\n",
        "out_xor = Dense(units = 2, activation = 'softmax', name = 'xor')(x)\n",
        "\n",
        "model = tf.keras.Model(inputs = [x_and, x_or, x_xor], outputs = [out_and, out_or, out_xor])\n",
        "model.summary()"
      ]
    },
    {
      "cell_type": "code",
      "execution_count": 33,
      "metadata": {
        "colab": {
          "base_uri": "https://localhost:8080/"
        },
        "id": "XwhCAOY4Pb7A",
        "outputId": "c56a34e0-7730-4b22-d98f-56554c051f9b"
      },
      "outputs": [
        {
          "name": "stdout",
          "output_type": "stream",
          "text": [
            "WARNING:tensorflow:6 out of the last 6 calls to <function Model.make_test_function.<locals>.test_function at 0x00000255DB146040> triggered tf.function retracing. Tracing is expensive and the excessive number of tracings could be due to (1) creating @tf.function repeatedly in a loop, (2) passing tensors with different shapes, (3) passing Python objects instead of tensors. For (1), please define your @tf.function outside of the loop. For (2), @tf.function has reduce_retracing=True option that can avoid unnecessary retracing. For (3), please refer to https://www.tensorflow.org/guide/function#controlling_retracing and https://www.tensorflow.org/api_docs/python/tf/function for  more details.\n",
            "total loss = 0.0006391436909325421\n",
            "AND: loss=9.66314910328947e-05, acc=1.0\n",
            "OR: loss=8.906275616027415e-05, acc=1.0\n",
            "XOR: loss=0.0004534494364634156, acc=1.0\n"
          ]
        }
      ],
      "source": [
        "#4: train and evaluate\n",
        "opt = tf.keras.optimizers.RMSprop(learning_rate = 0.1)\n",
        "model.compile(optimizer = opt, loss = 'mse', metrics = ['accuracy'])\n",
        "ret = model.fit(x = [X, X, X], y = [y_and, y_or, y_xor],\n",
        "                epochs=100, batch_size=4, verbose=0)\n",
        "test = model.evaluate(x = [X, X, X], y = [y_and, y_or, y_xor], verbose = 0)\n",
        "print('total loss =', test[0])\n",
        "print('AND: loss={}, acc={}'.format(test[1], test[4]))\n",
        "print('OR: loss={}, acc={}'.format(test[2], test[5]))\n",
        "print('XOR: loss={}, acc={}'.format(test[3], test[6]))"
      ]
    },
    {
      "cell_type": "code",
      "execution_count": 34,
      "metadata": {
        "colab": {
          "base_uri": "https://localhost:8080/",
          "height": 279
        },
        "id": "F0DfODXEQSji",
        "outputId": "03bb6b55-372f-47cf-bd4f-3dc1bbcb4a8a"
      },
      "outputs": [
        {
          "data": {
            "image/png": "[encoded data removed]",
            "text/plain": [
              "<Figure size 640x480 with 1 Axes>"
            ]
          },
          "metadata": {},
          "output_type": "display_data"
        }
      ],
      "source": [
        "#5: draw graph\n",
        "plt.plot(ret.history['loss'], 'k--', label='loss')\n",
        "plt.plot(ret.history['and_loss'], 'r--', label='and_loss')\n",
        "plt.plot(ret.history['or_loss'], 'g--', label='or_loss')\n",
        "plt.plot(ret.history['xor_loss'], 'b--', label='xor_loss')\n",
        "\n",
        "plt.plot(ret.history['and_accuracy'], 'r-', label='and_accuracy')\n",
        "plt.plot(ret.history['or_accuracy'], 'g-', label='or_accuracy')\n",
        "plt.plot(ret.history['xor_accuracy'], 'b-', label='or_accuracy')\n",
        "\n",
        "plt.xlabel('epochs')\n",
        "plt.ylabel('loss and accuracy')\n",
        "plt.legend(loc = 'best')\n",
        "plt.show()"
      ]
    },
    {
      "cell_type": "code",
      "execution_count": null,
      "metadata": {
        "id": "qXyyfx6mRrK2"
      },
      "outputs": [],
      "source": []
    }
  ],
  "metadata": {
    "colab": {
      "provenance": [],
      "toc_visible": true
    },
    "kernelspec": {
      "display_name": "base",
      "language": "python",
      "name": "python3"
    },
    "language_info": {
      "codemirror_mode": {
        "name": "ipython",
        "version": 3
      },
      "file_extension": ".py",
      "mimetype": "text/x-python",
      "name": "python",
      "nbconvert_exporter": "python",
      "pygments_lexer": "ipython3",
      "version": "3.9.13"
    },
    "vscode": {
      "interpreter": {
        "hash": "ad2bdc8ecc057115af97d19610ffacc2b4e99fae6737bb82f5d7fb13d2f2c186"
      }
    }
  },
  "nbformat": 4,
  "nbformat_minor": 0
}
